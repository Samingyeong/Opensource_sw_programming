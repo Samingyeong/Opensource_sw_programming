{
  "cells": [
    {
      "cell_type": "code",
      "execution_count": 85,
      "metadata": {
        "colab": {
          "base_uri": "https://localhost:8080/"
        },
        "id": "-nutagybx5B4",
        "outputId": "6006f48b-3cd0-464d-cc71-4551839ce483"
      },
      "outputs": [
        {
          "output_type": "stream",
          "name": "stdout",
          "text": [
            "[36, 42, 38, 33, 64]\n"
          ]
        }
      ],
      "source": [
        "#1\n",
        "#문자열에서 유니코드 코드포인트 리스트 만들기 (ver1)\n",
        "\n",
        "symbols = \"$*&!@\"\n",
        "codes = []\n",
        "\n",
        "for symbol in symbols:\n",
        "    codes.append(ord(symbol))\n",
        "\n",
        "print(codes)"
      ]
    },
    {
      "cell_type": "code",
      "execution_count": 86,
      "metadata": {
        "colab": {
          "base_uri": "https://localhost:8080/"
        },
        "id": "WoaBkUIEx5B5",
        "outputId": "80914c4a-0d91-4f52-d343-17120a069992"
      },
      "outputs": [
        {
          "output_type": "stream",
          "name": "stdout",
          "text": [
            "[36, 42, 38, 33, 64]\n"
          ]
        }
      ],
      "source": [
        "#2\n",
        "#문자열에서 유니코드 코드포인트 리스트 만들기 (ver2)\n",
        "\n",
        "symbols = \"$*&!@\"\n",
        "\n",
        "codes = [ord(symbol) for symbol in symbols]\n",
        "\n",
        "print(codes)"
      ]
    },
    {
      "cell_type": "code",
      "execution_count": 87,
      "metadata": {
        "colab": {
          "base_uri": "https://localhost:8080/"
        },
        "id": "YhITk57zx5B5",
        "outputId": "77e65032-413b-45e5-9827-67e0e7faef97"
      },
      "outputs": [
        {
          "output_type": "stream",
          "name": "stdout",
          "text": [
            "\"!~$$*&!@\n",
            "[34, 33, 126, 36, 36, 42, 38, 33, 64]\n"
          ]
        }
      ],
      "source": [
        "#3\n",
        "#지능형 리스트 지역 변수와 주변 변수 구분 예제\n",
        "\n",
        "x = '\"!~$$*&!@'\n",
        "dummy = [ord(x) for x in x]\n",
        "\n",
        "print(x)\n",
        "print(dummy)"
      ]
    },
    {
      "cell_type": "code",
      "execution_count": 88,
      "metadata": {
        "colab": {
          "base_uri": "https://localhost:8080/"
        },
        "id": "V58h3uW-x5B5",
        "outputId": "a8c6d760-e727-49d4-a04c-88c7ad5f897b"
      },
      "outputs": [
        {
          "output_type": "stream",
          "name": "stdout",
          "text": [
            "[34, 33, 126, 36, 36, 42, 38, 33, 64]\n"
          ]
        }
      ],
      "source": [
        "#4\n",
        "#지능형 리스트로 만든 리스트\n",
        "\n",
        "symbols = '\"!~$$*&!@'\n",
        "beyond_ascii = [ord(s) for s in symbols if ord(s) > 32]\n",
        "\n",
        "print(beyond_ascii)"
      ]
    },
    {
      "cell_type": "code",
      "execution_count": 89,
      "metadata": {
        "colab": {
          "base_uri": "https://localhost:8080/"
        },
        "id": "z3LIeHWvx5B5",
        "outputId": "443aa84c-5790-428e-cbba-e21a7f9f1054"
      },
      "outputs": [
        {
          "output_type": "stream",
          "name": "stdout",
          "text": [
            "[126] \n",
            "\n",
            "Map function:\n",
            ">>> <map object at 0x79208009c9d0>\n",
            "List after map:\n",
            ">>> [34, 33, 126, 36, 36, 42, 38, 33, 64]\n"
          ]
        }
      ],
      "source": [
        "#5\n",
        "#map()/filter()로 만든 리스트\n",
        "\n",
        "symbols = '\"!~$$*&!@'\n",
        "beyond_ascii = list(filter(lambda c: c>64, map(ord, symbols)))\n",
        "\n",
        "print(beyond_ascii, '\\n')\n",
        "\n",
        "print(f\"Map function:\\n>>> {map(ord, symbols)}\")\n",
        "print(f\"List after map:\\n>>> {list(map(ord, symbols))}\")"
      ]
    },
    {
      "cell_type": "code",
      "execution_count": 90,
      "metadata": {
        "colab": {
          "base_uri": "https://localhost:8080/"
        },
        "id": "swhLiHFux5B6",
        "outputId": "db6e1f9a-dfff-4ca1-f88c-df323e4988b0"
      },
      "outputs": [
        {
          "output_type": "stream",
          "name": "stdout",
          "text": [
            "[('black', 'S'), ('black', 'M'), ('black', 'L'), ('white', 'S'), ('white', 'M'), ('white', 'L')]\n",
            "('black', 'S')\n",
            "('black', 'M')\n",
            "('black', 'L')\n",
            "('white', 'S')\n",
            "('white', 'M')\n",
            "('white', 'L')\n"
          ]
        }
      ],
      "source": [
        "#6\n",
        "#지능형 리스트를 이용한 데카르트 곱\n",
        "\n",
        "colors = ['black', 'white']\n",
        "sizes = ['S', 'M', 'L']\n",
        "tshirts = [(color, size) for color in colors for size in sizes]\n",
        "\n",
        "print(tshirts)\n",
        "\n",
        "for color in colors:\n",
        "    for size in sizes:\n",
        "        print((color,size))"
      ]
    },
    {
      "cell_type": "code",
      "execution_count": 91,
      "metadata": {
        "colab": {
          "base_uri": "https://localhost:8080/"
        },
        "id": "i_pm2i56x5B6",
        "outputId": "44410e9c-875d-4030-f0d9-443daa70418c"
      },
      "outputs": [
        {
          "output_type": "stream",
          "name": "stdout",
          "text": [
            "(33, 35, 94, 38, 38, 35)\n"
          ]
        }
      ],
      "source": [
        "#7\n",
        "#제너레이터 표현식에서 튜플 초기화하기\n",
        "\n",
        "symbols = \"!#^&&#\"\n",
        "ord_s = tuple(ord(s) for s in symbols if ord(s))\n",
        "\n",
        "print(ord_s)"
      ]
    },
    {
      "cell_type": "code",
      "execution_count": 92,
      "metadata": {
        "colab": {
          "base_uri": "https://localhost:8080/"
        },
        "id": "iK2WTrKXx5B6",
        "outputId": "0877bef0-1314-4bc9-d3e7-e1482ed264f6"
      },
      "outputs": [
        {
          "output_type": "stream",
          "name": "stdout",
          "text": [
            "array('I', [33, 35, 94, 38, 38, 35])\n"
          ]
        }
      ],
      "source": [
        "#7-2\n",
        "#제너레이터 표현식에서 배열 초기화하기\n",
        "\n",
        "import array\n",
        "ord_s = array.array('I', (ord(symbol) for symbol in symbols))\n",
        "\n",
        "print(ord_s)"
      ]
    },
    {
      "cell_type": "code",
      "execution_count": 93,
      "metadata": {
        "colab": {
          "base_uri": "https://localhost:8080/"
        },
        "id": "NG1Zi6xix5B6",
        "outputId": "24e4cda7-7032-4555-9880-b1bd56ca1795"
      },
      "outputs": [
        {
          "output_type": "stream",
          "name": "stdout",
          "text": [
            "black S\n",
            "white S\n",
            "black M\n",
            "white M\n",
            "black L\n",
            "white L\n"
          ]
        }
      ],
      "source": [
        "#8\n",
        "#제너레이터 표현식에서의 데카르트 곱\n",
        "\n",
        "colors = ['black', 'white']\n",
        "sizes = ['S', 'M', 'L']\n",
        "\n",
        "for tshirt in ('{} {}'.format(c,s) for s in sizes for c in colors):\n",
        "    print(tshirt)"
      ]
    },
    {
      "cell_type": "code",
      "execution_count": 94,
      "metadata": {
        "colab": {
          "base_uri": "https://localhost:8080/"
        },
        "id": "mquqj6o0x5B7",
        "outputId": "ca1271c6-72bf-498b-ebff-067643e4643e"
      },
      "outputs": [
        {
          "output_type": "stream",
          "name": "stdout",
          "text": [
            "BRA/CE342567\n",
            "BRA/CE342567\n",
            "BRA/CE342567\n",
            "ESP/XDA205856\n",
            "ESP/XDA205856\n",
            "ESP/XDA205856\n",
            "USA/31195855\n",
            "USA/31195855\n",
            "USA/31195855\n"
          ]
        }
      ],
      "source": [
        "#9\n",
        "#레코드로 사용된 튜플1\n",
        "\n",
        "lax_coordinates = (33.9425, -118.408056)\n",
        "city, year, pop, chg, area = ('Tokyo', 2003, 32450, 0.66, 8014)\n",
        "traveler_ids = [('USA', '31195855'),\n",
        "                ('BRA', 'CE342567'),\n",
        "                ('ESP', 'XDA205856')]\n",
        "\n",
        "for passport in sorted(traveler_ids):\n",
        "    print('%s/%s' %passport)\n",
        "    print('{}/{}'.format(passport[0], passport[1]))\n",
        "    print(f'{passport[0]}/{passport[1]}')"
      ]
    },
    {
      "cell_type": "code",
      "execution_count": 95,
      "metadata": {
        "colab": {
          "base_uri": "https://localhost:8080/"
        },
        "id": "3x8QD1X9x5B7",
        "outputId": "fcdb56ad-a787-474c-9324-6ee66951b666"
      },
      "outputs": [
        {
          "output_type": "stream",
          "name": "stdout",
          "text": [
            "USA\n",
            "BRA\n",
            "ESP\n"
          ]
        }
      ],
      "source": [
        "#10\n",
        "#레코드로 사용된 튜플2\n",
        "\n",
        "for country, _ in traveler_ids:\n",
        "    print(country)"
      ]
    },
    {
      "cell_type": "code",
      "execution_count": 96,
      "metadata": {
        "colab": {
          "base_uri": "https://localhost:8080/"
        },
        "id": "jlAtfkD4x5B7",
        "outputId": "ff0cb73a-c274-4c6e-88e8-7647970cdce1"
      },
      "outputs": [
        {
          "output_type": "stream",
          "name": "stdout",
          "text": [
            "33.9425\n",
            "-118.408056\n"
          ]
        }
      ],
      "source": [
        "#11\n",
        "#튜플 병렬 할당\n",
        "lax_coordinates = (33.9425, -118.408056)\n",
        "latitude, longtitude = lax_coordinates\n",
        "print(latitude)\n",
        "print(longtitude)"
      ]
    },
    {
      "cell_type": "code",
      "execution_count": 97,
      "metadata": {
        "colab": {
          "base_uri": "https://localhost:8080/"
        },
        "id": "G97cTmEmx5B7",
        "outputId": "4a818ef8-fe04-4053-c198-1e22b0d42060"
      },
      "outputs": [
        {
          "output_type": "stream",
          "name": "stdout",
          "text": [
            "20 10\n"
          ]
        }
      ],
      "source": [
        "#12\n",
        "#튜플 병렬 할당(swap)\n",
        "\n",
        "a=10; b=20\n",
        "b, a = a, b\n",
        "print(a,b)"
      ]
    },
    {
      "cell_type": "code",
      "execution_count": 98,
      "metadata": {
        "colab": {
          "base_uri": "https://localhost:8080/"
        },
        "id": "9hwaQE4mx5B7",
        "outputId": "dfa69450-d674-4339-b5c0-0baff49a747d"
      },
      "outputs": [
        {
          "output_type": "execute_result",
          "data": {
            "text/plain": [
              "(2, 4)"
            ]
          },
          "metadata": {},
          "execution_count": 98
        }
      ],
      "source": [
        "#13\n",
        "#튜플 병렬 할당(함수 인수 전달)\n",
        "\n",
        "divmod(20, 8)"
      ]
    },
    {
      "cell_type": "code",
      "execution_count": 99,
      "metadata": {
        "colab": {
          "base_uri": "https://localhost:8080/"
        },
        "id": "uH6dCMDpx5B7",
        "outputId": "1da456b2-6a9c-4a36-c0fb-bf19d7f5873d"
      },
      "outputs": [
        {
          "output_type": "execute_result",
          "data": {
            "text/plain": [
              "(2, 4)"
            ]
          },
          "metadata": {},
          "execution_count": 99
        }
      ],
      "source": [
        "#13-2\n",
        "#튜플 병렬 할당(함수 인수 전달)\n",
        "\n",
        "t = (20,8)\n",
        "divmod(*t)"
      ]
    },
    {
      "cell_type": "code",
      "execution_count": 100,
      "metadata": {
        "colab": {
          "base_uri": "https://localhost:8080/"
        },
        "id": "dnS9bBXsx5B8",
        "outputId": "eb45b077-a693-4bb8-e275-76311e70e8cd"
      },
      "outputs": [
        {
          "output_type": "execute_result",
          "data": {
            "text/plain": [
              "(2, 4)"
            ]
          },
          "metadata": {},
          "execution_count": 100
        }
      ],
      "source": [
        "#13-3\n",
        "#튜플 병렬 할당(함수 인수 전달)\n",
        "\n",
        "quotient, remainder = divmod(*t)\n",
        "quotient, remainder"
      ]
    },
    {
      "cell_type": "code",
      "execution_count": 101,
      "metadata": {
        "colab": {
          "base_uri": "https://localhost:8080/",
          "height": 35
        },
        "id": "Ukiqqm3Rx5B8",
        "outputId": "3af3a073-4fc2-4f18-d3a5-c199899234f7"
      },
      "outputs": [
        {
          "output_type": "execute_result",
          "data": {
            "text/plain": [
              "'idrsa.pub'"
            ],
            "application/vnd.google.colaboratory.intrinsic+json": {
              "type": "string"
            }
          },
          "metadata": {},
          "execution_count": 101
        }
      ],
      "source": [
        "#14\n",
        "#파일 시스템 경로에서 경로명과 파일명 추출\n",
        "\n",
        "import os\n",
        "_, filename = os.path.split('/home/luciano/.ssh/idrsa.pub')\n",
        "filename"
      ]
    },
    {
      "cell_type": "code",
      "execution_count": 102,
      "metadata": {
        "colab": {
          "base_uri": "https://localhost:8080/"
        },
        "id": "6X8drRgQx5B8",
        "outputId": "a6bc1769-58ec-422c-cf06-7f6bb583f4ea"
      },
      "outputs": [
        {
          "output_type": "execute_result",
          "data": {
            "text/plain": [
              "(0, 1, [2, 3, 4])"
            ]
          },
          "metadata": {},
          "execution_count": 102
        }
      ],
      "source": [
        "#15\n",
        "# *사용으로 병렬 할당 언패킹1\n",
        "\n",
        "a, b, *rest = range(5)\n",
        "a, b, rest"
      ]
    },
    {
      "cell_type": "code",
      "execution_count": 103,
      "metadata": {
        "colab": {
          "base_uri": "https://localhost:8080/"
        },
        "id": "hbfDIJBux5B8",
        "outputId": "a0fe2d2f-5b91-4174-82aa-978e051948d2"
      },
      "outputs": [
        {
          "output_type": "execute_result",
          "data": {
            "text/plain": [
              "(0, 1, [2])"
            ]
          },
          "metadata": {},
          "execution_count": 103
        }
      ],
      "source": [
        "#15-2\n",
        "# *사용으로 병렬 할당 언패킹1\n",
        "\n",
        "a, b, *rest = range(3)\n",
        "a, b, rest"
      ]
    },
    {
      "cell_type": "code",
      "execution_count": 104,
      "metadata": {
        "colab": {
          "base_uri": "https://localhost:8080/"
        },
        "id": "0ep6JO7Ux5B8",
        "outputId": "37f34b13-678f-4ebb-932d-fac9a4935233"
      },
      "outputs": [
        {
          "output_type": "execute_result",
          "data": {
            "text/plain": [
              "(0, 1, [])"
            ]
          },
          "metadata": {},
          "execution_count": 104
        }
      ],
      "source": [
        "#15-3\n",
        "# *사용으로 병렬 할당 언패킹1\n",
        "\n",
        "a, b, *rest = range(2)\n",
        "a, b, rest"
      ]
    },
    {
      "cell_type": "code",
      "execution_count": 105,
      "metadata": {
        "colab": {
          "base_uri": "https://localhost:8080/"
        },
        "id": "M0JKdL5ix5B8",
        "outputId": "ac889ff6-a2b7-4032-cfd2-e807f7843174"
      },
      "outputs": [
        {
          "output_type": "execute_result",
          "data": {
            "text/plain": [
              "(0, [1, 2], 3, 4)"
            ]
          },
          "metadata": {},
          "execution_count": 105
        }
      ],
      "source": [
        "#16\n",
        "# * 사용으로 병렬 할당 언패킹2\n",
        "\n",
        "a,*body, c, d = range(5)\n",
        "a,body, c, d"
      ]
    },
    {
      "cell_type": "code",
      "execution_count": 106,
      "metadata": {
        "colab": {
          "base_uri": "https://localhost:8080/"
        },
        "id": "LooQ0jR0x5B9",
        "outputId": "6259eee4-5d1e-4acd-945d-345544f4da72"
      },
      "outputs": [
        {
          "output_type": "execute_result",
          "data": {
            "text/plain": [
              "([0, 1], 2, 3, 4)"
            ]
          },
          "metadata": {},
          "execution_count": 106
        }
      ],
      "source": [
        "*head, b, c, d = range(5)\n",
        "head, b, c, d"
      ]
    },
    {
      "cell_type": "code",
      "execution_count": 107,
      "metadata": {
        "colab": {
          "base_uri": "https://localhost:8080/"
        },
        "id": "MBaZMM9-x5B9",
        "outputId": "49078c3d-c9ae-4136-c483-43dde86a75fb"
      },
      "outputs": [
        {
          "output_type": "stream",
          "name": "stdout",
          "text": [
            "                |   lat.    |   long.  \n",
            "Mexico City     |   19.0000 |  -99.0000\n",
            "New York-Newark |   40.0000 |  -74.0000\n",
            "Sao Paulo       |  -23.0000 |  -46.0000\n"
          ]
        }
      ],
      "source": [
        "#17\n",
        "#longtitude에 접근하기 위해 내포된 튜플 언패킹\n",
        "\n",
        "metro_areas = [\n",
        "    (\"Tokyo\", \"JP\", 36.933, (35, 139)),\n",
        "    (\"Delhi NCR\", \"IN\", 21, (28, 77)),\n",
        "    (\"Mexico City\", \"MX\", 20, (19, -99)),\n",
        "    (\"New York-Newark\", \"US\", 20, (40, -74)),\n",
        "    (\"Sao Paulo\", \"BR\", 19, (-23, -46))\n",
        "]\n",
        "\n",
        "print(\"{:15} | {:^9} | {:^9}\".format('', 'lat.', 'long.'))\n",
        "fmt = '{:15} | {:9.4f} | {:9.4f}'\n",
        "\n",
        "for name, cc, pop, (lat, longi) in metro_areas:\n",
        "    if longi <= 0:\n",
        "        print(fmt.format(name, lat, longi))"
      ]
    },
    {
      "cell_type": "code",
      "execution_count": 108,
      "metadata": {
        "colab": {
          "base_uri": "https://localhost:8080/"
        },
        "id": "Hgvk6Z9ux5B9",
        "outputId": "ad606660-fae2-4302-f558-6aaf67949306"
      },
      "outputs": [
        {
          "output_type": "execute_result",
          "data": {
            "text/plain": [
              "City(name='Tokyo', country='JP', population=36.933, coordinates=(35.689, 139.691))"
            ]
          },
          "metadata": {},
          "execution_count": 108
        }
      ],
      "source": [
        "#18\n",
        "#명명된 튜플형을 정의하고 사용하기\n",
        "\n",
        "from collections import namedtuple\n",
        "City = namedtuple('City', 'name country population coordinates')\n",
        "tokyo = City('Tokyo', 'JP', 36.933, (35.689, 139.691))\n",
        "tokyo"
      ]
    },
    {
      "cell_type": "code",
      "execution_count": 109,
      "metadata": {
        "colab": {
          "base_uri": "https://localhost:8080/"
        },
        "id": "kLar6l0gx5B9",
        "outputId": "d6c930bf-c6cc-43ac-dfb9-4332184ba4b9"
      },
      "outputs": [
        {
          "output_type": "execute_result",
          "data": {
            "text/plain": [
              "36.933"
            ]
          },
          "metadata": {},
          "execution_count": 109
        }
      ],
      "source": [
        "#18-2\n",
        "#명명된 튜플형을 정의하고 사용하기\n",
        "\n",
        "tokyo.population"
      ]
    },
    {
      "cell_type": "code",
      "execution_count": 110,
      "metadata": {
        "colab": {
          "base_uri": "https://localhost:8080/"
        },
        "id": "k4jHtoZXx5B9",
        "outputId": "bc45e41d-498f-48d4-be1b-566eebc5f444"
      },
      "outputs": [
        {
          "output_type": "execute_result",
          "data": {
            "text/plain": [
              "(35.689, 139.691)"
            ]
          },
          "metadata": {},
          "execution_count": 110
        }
      ],
      "source": [
        "#18-3\n",
        "#명명된 튜플형을 정의하고 사용하기\n",
        "\n",
        "tokyo.coordinates"
      ]
    },
    {
      "cell_type": "code",
      "execution_count": 111,
      "metadata": {
        "colab": {
          "base_uri": "https://localhost:8080/",
          "height": 35
        },
        "id": "xLrE8uPOx5B9",
        "outputId": "c304c8f9-95de-4496-92be-8ea04d0cee4e"
      },
      "outputs": [
        {
          "output_type": "execute_result",
          "data": {
            "text/plain": [
              "'JP'"
            ],
            "application/vnd.google.colaboratory.intrinsic+json": {
              "type": "string"
            }
          },
          "metadata": {},
          "execution_count": 111
        }
      ],
      "source": [
        "#18-4\n",
        "#명명된 튜플형을 정의하고 사용하기\n",
        "\n",
        "tokyo[1]"
      ]
    },
    {
      "cell_type": "code",
      "execution_count": 112,
      "metadata": {
        "colab": {
          "base_uri": "https://localhost:8080/"
        },
        "id": "YybfsEjBx5B9",
        "outputId": "355a4991-576d-48ae-8033-d46b89fab798"
      },
      "outputs": [
        {
          "output_type": "execute_result",
          "data": {
            "text/plain": [
              "('name', 'country', 'population', 'coordinates')"
            ]
          },
          "metadata": {},
          "execution_count": 112
        }
      ],
      "source": [
        "#19\n",
        "#명명된 튜플의 속성과 메서드\n",
        "\n",
        "City._fields"
      ]
    },
    {
      "cell_type": "code",
      "execution_count": 113,
      "metadata": {
        "colab": {
          "base_uri": "https://localhost:8080/"
        },
        "id": "YdqwuWHLx5B-",
        "outputId": "0848c7ac-b1e4-4ce4-f983-9c3055307310"
      },
      "outputs": [
        {
          "output_type": "execute_result",
          "data": {
            "text/plain": [
              "{'name': 'Delhi NCR',\n",
              " 'country': 'IN',\n",
              " 'population': 21.935,\n",
              " 'coordinates': LatLong(lat=28.613, long=77.208)}"
            ]
          },
          "metadata": {},
          "execution_count": 113
        }
      ],
      "source": [
        "#19-2\n",
        "#명명된 튜플의 속성과 메서드\n",
        "\n",
        "LatLong = namedtuple('LatLong', 'lat long')\n",
        "delhi_data = ('Delhi NCR', 'IN', 21.935, LatLong(28.613, 77.208))\n",
        "\n",
        "delhi = City._make(delhi_data)\n",
        "delhi._asdict()"
      ]
    },
    {
      "cell_type": "code",
      "execution_count": 114,
      "metadata": {
        "colab": {
          "base_uri": "https://localhost:8080/"
        },
        "id": "tXfb8tzWx5B-",
        "outputId": "6bec4148-a15c-4de4-d71a-01517ab95ec7"
      },
      "outputs": [
        {
          "output_type": "stream",
          "name": "stdout",
          "text": [
            "name: Delhi NCR\n",
            "country: IN\n",
            "population: 21.935\n",
            "coordinates: LatLong(lat=28.613, long=77.208)\n"
          ]
        }
      ],
      "source": [
        "for key, value in delhi._asdict().items():\n",
        "    print(key + ':', value)"
      ]
    },
    {
      "cell_type": "code",
      "execution_count": 115,
      "metadata": {
        "colab": {
          "base_uri": "https://localhost:8080/"
        },
        "id": "7j0HjLwUx5B-",
        "outputId": "2f95c0f4-ba3a-43e5-fc06-10aa45e6a723"
      },
      "outputs": [
        {
          "output_type": "execute_result",
          "data": {
            "text/plain": [
              "[10, 20]"
            ]
          },
          "metadata": {},
          "execution_count": 115
        }
      ],
      "source": [
        "#20\n",
        "#슬라이싱 예제\n",
        "\n",
        "l = [10, 20, 30, 40, 50, 60]\n",
        "l[:2]"
      ]
    },
    {
      "cell_type": "code",
      "execution_count": 116,
      "metadata": {
        "colab": {
          "base_uri": "https://localhost:8080/"
        },
        "id": "Hn7A7CRJx5B-",
        "outputId": "a1b9e1de-aea8-44eb-b9ff-3a2dd131e42b"
      },
      "outputs": [
        {
          "output_type": "execute_result",
          "data": {
            "text/plain": [
              "[30, 40, 50, 60]"
            ]
          },
          "metadata": {},
          "execution_count": 116
        }
      ],
      "source": [
        "#20-2\n",
        "#슬라이싱 예제\n",
        "\n",
        "l[2:]"
      ]
    },
    {
      "cell_type": "code",
      "execution_count": 117,
      "metadata": {
        "colab": {
          "base_uri": "https://localhost:8080/"
        },
        "id": "tYPchD4Wx5B-",
        "outputId": "ee6a44f8-b12c-4ed0-d93b-b41fdebc4a74"
      },
      "outputs": [
        {
          "output_type": "execute_result",
          "data": {
            "text/plain": [
              "[10, 20, 30]"
            ]
          },
          "metadata": {},
          "execution_count": 117
        }
      ],
      "source": [
        "#20-3\n",
        "#슬라이싱 예제\n",
        "\n",
        "l[:3]"
      ]
    },
    {
      "cell_type": "code",
      "execution_count": 118,
      "metadata": {
        "colab": {
          "base_uri": "https://localhost:8080/"
        },
        "id": "jZrwsm4hx5B-",
        "outputId": "46e584b4-2268-41c7-bd6a-7d515d077de5"
      },
      "outputs": [
        {
          "output_type": "execute_result",
          "data": {
            "text/plain": [
              "[40, 50, 60]"
            ]
          },
          "metadata": {},
          "execution_count": 118
        }
      ],
      "source": [
        "#20-4\n",
        "#슬라이싱 예제\n",
        "l[3:]"
      ]
    },
    {
      "cell_type": "code",
      "execution_count": 130,
      "metadata": {
        "colab": {
          "base_uri": "https://localhost:8080/"
        },
        "id": "wgdwNz71x5B-",
        "outputId": "ced6871d-fffc-4e37-b51e-35e58ef0912d"
      },
      "outputs": [
        {
          "output_type": "stream",
          "name": "stdout",
          "text": [
            "$17.50    Pimoroni          \n",
            "$4.95     6mm Tactile       \n",
            " \n"
          ]
        }
      ],
      "source": [
        "#21\n",
        "#단순 텍스트 파일 청구서의 행 항목들\n",
        "\n",
        "invoice = \"\"\"\n",
        "0.....6................25.........33......40......\n",
        "1909   Pimoroni          $17.50      3      $52.50\n",
        "1489   6mm Tactile       $4.95       2      $9.90\n",
        "\"\"\"\n",
        "\n",
        "SKU = slice(0, 6)\n",
        "DESCRIPTION = slice(6, 25)\n",
        "UNIT_PRICE = slice(25, 33)\n",
        "QUANTITY = slice(33, 40)\n",
        "ITEM_TOTAL = slice(40, None)\n",
        "\n",
        "line_items = invoice.split('\\n')[2:]\n",
        "\n",
        "for item in line_items:\n",
        "    print(item[UNIT_PRICE], item[DESCRIPTION])"
      ]
    },
    {
      "cell_type": "code",
      "execution_count": 120,
      "metadata": {
        "colab": {
          "base_uri": "https://localhost:8080/"
        },
        "id": "gYJeWpmlx5B-",
        "outputId": "45ee17f2-0a55-43fb-e7b5-f36e6a741321"
      },
      "outputs": [
        {
          "output_type": "execute_result",
          "data": {
            "text/plain": [
              "[0, 1, 2, 3, 4, 5, 6, 7, 8, 9]"
            ]
          },
          "metadata": {},
          "execution_count": 120
        }
      ],
      "source": [
        "#22\n",
        "#가변 시퀀스 변형\n",
        "\n",
        "l = list(range(10))\n",
        "l"
      ]
    },
    {
      "cell_type": "code",
      "execution_count": 121,
      "metadata": {
        "colab": {
          "base_uri": "https://localhost:8080/"
        },
        "id": "Gtp5sCFix5B_",
        "outputId": "a193fdd3-664a-481f-9c3c-a195060164cd"
      },
      "outputs": [
        {
          "output_type": "execute_result",
          "data": {
            "text/plain": [
              "[0, 1, 20, 30, 5, 6, 7, 8, 9]"
            ]
          },
          "metadata": {},
          "execution_count": 121
        }
      ],
      "source": [
        "#22-2\n",
        "#가변 시퀀스 변형\n",
        "\n",
        "l[2:5] =[20,30]\n",
        "l"
      ]
    },
    {
      "cell_type": "code",
      "execution_count": 122,
      "metadata": {
        "colab": {
          "base_uri": "https://localhost:8080/"
        },
        "id": "vZzYUMFRx5B_",
        "outputId": "3ed84868-f4d7-4075-d755-46bf09bf8d42"
      },
      "outputs": [
        {
          "output_type": "execute_result",
          "data": {
            "text/plain": [
              "[0, 1, 20, 30, 5, 8, 9]"
            ]
          },
          "metadata": {},
          "execution_count": 122
        }
      ],
      "source": [
        "#22-3\n",
        "#가변 시퀀스 변형\n",
        "\n",
        "del l[5:7]\n",
        "l"
      ]
    },
    {
      "cell_type": "code",
      "execution_count": 123,
      "metadata": {
        "colab": {
          "base_uri": "https://localhost:8080/"
        },
        "id": "Xsuskqf5x5B_",
        "outputId": "3728d192-62e6-472c-fcdf-eb86b9735997"
      },
      "outputs": [
        {
          "output_type": "execute_result",
          "data": {
            "text/plain": [
              "[0, 1, 20, 11, 5, 22, 9]"
            ]
          },
          "metadata": {},
          "execution_count": 123
        }
      ],
      "source": [
        "#22-4\n",
        "#가변 시퀀스 변형\n",
        "l[3::2] = [11,22]\n",
        "l"
      ]
    },
    {
      "cell_type": "code",
      "execution_count": 124,
      "metadata": {
        "colab": {
          "base_uri": "https://localhost:8080/",
          "height": 182
        },
        "id": "4JBvJ25Ax5CD",
        "outputId": "be98346e-92eb-41c2-da97-bee497e0bead"
      },
      "outputs": [
        {
          "output_type": "error",
          "ename": "TypeError",
          "evalue": "can only assign an iterable",
          "traceback": [
            "\u001b[0;31m---------------------------------------------------------------------------\u001b[0m",
            "\u001b[0;31mTypeError\u001b[0m                                 Traceback (most recent call last)",
            "\u001b[0;32m<ipython-input-124-9c53fff75b12>\u001b[0m in \u001b[0;36m<cell line: 4>\u001b[0;34m()\u001b[0m\n\u001b[1;32m      2\u001b[0m \u001b[0;31m#가변 시퀀스 변형 오류 예시\u001b[0m\u001b[0;34m\u001b[0m\u001b[0;34m\u001b[0m\u001b[0m\n\u001b[1;32m      3\u001b[0m \u001b[0;34m\u001b[0m\u001b[0m\n\u001b[0;32m----> 4\u001b[0;31m \u001b[0ml\u001b[0m\u001b[0;34m[\u001b[0m\u001b[0;36m2\u001b[0m\u001b[0;34m:\u001b[0m\u001b[0;36m5\u001b[0m\u001b[0;34m]\u001b[0m \u001b[0;34m=\u001b[0m \u001b[0;36m100\u001b[0m\u001b[0;34m\u001b[0m\u001b[0;34m\u001b[0m\u001b[0m\n\u001b[0m",
            "\u001b[0;31mTypeError\u001b[0m: can only assign an iterable"
          ]
        }
      ],
      "source": [
        "#23\n",
        "#가변 시퀀스 변형 오류 예시\n",
        "\n",
        "l[2:5] = 100"
      ]
    },
    {
      "cell_type": "code",
      "execution_count": 131,
      "metadata": {
        "colab": {
          "base_uri": "https://localhost:8080/"
        },
        "id": "KK8cHA4Kx5CD",
        "outputId": "5b92d9ca-5ade-436c-d63f-a06b509f2f4c"
      },
      "outputs": [
        {
          "output_type": "execute_result",
          "data": {
            "text/plain": [
              "[0, 1, 100, 22, 9]"
            ]
          },
          "metadata": {},
          "execution_count": 131
        }
      ],
      "source": [
        "#24\n",
        "#올바른 할당문\n",
        "\n",
        "l[2:5] = [100]\n",
        "l"
      ]
    },
    {
      "cell_type": "code",
      "execution_count": 132,
      "metadata": {
        "colab": {
          "base_uri": "https://localhost:8080/"
        },
        "id": "e-EC7hhkx5CD",
        "outputId": "f27206bd-f268-4fc0-c12b-a0a2e1d995c1"
      },
      "outputs": [
        {
          "output_type": "execute_result",
          "data": {
            "text/plain": [
              "[1, 2, 3, 1, 2, 3, 1, 2, 3, 1, 2, 3, 1, 2, 3]"
            ]
          },
          "metadata": {},
          "execution_count": 132
        }
      ],
      "source": [
        "#25\n",
        "#시퀀스에 덧셈, 곱셈 수행\n",
        "\n",
        "l = [1,2,3]\n",
        "l * 5"
      ]
    },
    {
      "cell_type": "code",
      "execution_count": 133,
      "metadata": {
        "colab": {
          "base_uri": "https://localhost:8080/",
          "height": 35
        },
        "id": "o6zEgsX7x5CE",
        "outputId": "6b8f6048-9372-44cf-fa46-f667d9b44c3a"
      },
      "outputs": [
        {
          "output_type": "execute_result",
          "data": {
            "text/plain": [
              "'abcdabcdabcdabcdabcd'"
            ],
            "application/vnd.google.colaboratory.intrinsic+json": {
              "type": "string"
            }
          },
          "metadata": {},
          "execution_count": 133
        }
      ],
      "source": [
        "#25-2\n",
        "#시퀀스에 덧셈, 곱셈 수행\n",
        "\n",
        "5 * 'abcd'"
      ]
    },
    {
      "cell_type": "code",
      "execution_count": 134,
      "metadata": {
        "colab": {
          "base_uri": "https://localhost:8080/"
        },
        "id": "X3L9yrQ6x5CE",
        "outputId": "2ec52f69-534f-460b-8ce4-4831e197909c"
      },
      "outputs": [
        {
          "output_type": "execute_result",
          "data": {
            "text/plain": [
              "[['_', '_', '_'], ['_', '_', '_'], ['_', '_', '_']]"
            ]
          },
          "metadata": {},
          "execution_count": 134
        }
      ],
      "source": [
        "#26\n",
        "#길이가 3인 리스트 3개로 표현한 틱택토 보드\n",
        "\n",
        "board = [['_'] *3 for i in range(3)]\n",
        "board"
      ]
    },
    {
      "cell_type": "code",
      "execution_count": 135,
      "metadata": {
        "colab": {
          "base_uri": "https://localhost:8080/"
        },
        "id": "2HEEPaE6x5CE",
        "outputId": "401c5d01-f320-4617-9c9e-97db2a95225a"
      },
      "outputs": [
        {
          "output_type": "execute_result",
          "data": {
            "text/plain": [
              "[['_', '_', '_'], ['_', '_', 'X'], ['_', '_', '_']]"
            ]
          },
          "metadata": {},
          "execution_count": 135
        }
      ],
      "source": [
        "#26-2\n",
        "#길이가 3인 리스트 3개로 표현한 틱택토 보드\n",
        "\n",
        "board[1][2] = 'X'\n",
        "board"
      ]
    },
    {
      "cell_type": "code",
      "execution_count": 136,
      "metadata": {
        "colab": {
          "base_uri": "https://localhost:8080/"
        },
        "id": "mkimTUb7x5CE",
        "outputId": "741752f9-3082-4b10-a3df-d8e36b4c138c"
      },
      "outputs": [
        {
          "output_type": "execute_result",
          "data": {
            "text/plain": [
              "[['_', '_', '_'], ['_', '_', '_'], ['_', '_', '_']]"
            ]
          },
          "metadata": {},
          "execution_count": 136
        }
      ],
      "source": [
        "#27\n",
        "#동일한 리스트에 대한 세 개의 참조를 가진 리스트\n",
        "\n",
        "werid_board = [['_'] * 3] * 3\n",
        "werid_board"
      ]
    },
    {
      "cell_type": "code",
      "execution_count": 137,
      "metadata": {
        "colab": {
          "base_uri": "https://localhost:8080/"
        },
        "id": "pkQD6Cpux5CE",
        "outputId": "0ce2b907-938c-41fc-989d-4c268abb582c"
      },
      "outputs": [
        {
          "output_type": "execute_result",
          "data": {
            "text/plain": [
              "[['_', '_', '0'], ['_', '_', '0'], ['_', '_', '0']]"
            ]
          },
          "metadata": {},
          "execution_count": 137
        }
      ],
      "source": [
        "#27-2\n",
        "#동일한 리스트에 대한 세 개의 참조를 가진 리스트\n",
        "\n",
        "werid_board[1][2] ='0'\n",
        "werid_board"
      ]
    },
    {
      "cell_type": "code",
      "execution_count": 138,
      "metadata": {
        "colab": {
          "base_uri": "https://localhost:8080/"
        },
        "id": "eWofnV-wx5CE",
        "outputId": "4084b257-642d-4d3c-b5e6-30914885382a"
      },
      "outputs": [
        {
          "output_type": "execute_result",
          "data": {
            "text/plain": [
              "[['_', '_', 'X'], ['_', '_', 'X'], ['_', '_', 'X']]"
            ]
          },
          "metadata": {},
          "execution_count": 138
        }
      ],
      "source": [
        "#28\n",
        "#동일한 리스트에 대한 세 개의 참조를 가진 리스트2\n",
        "\n",
        "row = ['_'] * 3\n",
        "board = []\n",
        "for i in range(3):\n",
        "    board.append(row)\n",
        "\n",
        "board[1][2] = 'X'\n",
        "\n",
        "board"
      ]
    },
    {
      "cell_type": "code",
      "execution_count": 139,
      "metadata": {
        "colab": {
          "base_uri": "https://localhost:8080/"
        },
        "id": "7tS6Urvrx5CE",
        "outputId": "9acaed0e-fdf5-4248-cbdd-ccdaa1fd6d2a"
      },
      "outputs": [
        {
          "output_type": "stream",
          "name": "stdout",
          "text": [
            "[['_', '_', '_'], ['_', '_', '_'], ['_', '_', '_']]\n"
          ]
        },
        {
          "output_type": "execute_result",
          "data": {
            "text/plain": [
              "[['_', '_', '_'], ['_', '_', '_'], ['X', '_', '_']]"
            ]
          },
          "metadata": {},
          "execution_count": 139
        }
      ],
      "source": [
        "#29\n",
        "#예제 26의 지능형 리스트의 다른 표현\n",
        "\n",
        "board = []\n",
        "for i in range(3):\n",
        "    row = ['_'] * 3\n",
        "    board.append(row)\n",
        "\n",
        "print(board)\n",
        "\n",
        "board[2][0] = 'X'\n",
        "\n",
        "board"
      ]
    },
    {
      "cell_type": "code",
      "execution_count": 140,
      "metadata": {
        "colab": {
          "base_uri": "https://localhost:8080/"
        },
        "id": "4hADPsnPx5CF",
        "outputId": "56a5aa43-9653-48b1-8c65-a614f4795b73"
      },
      "outputs": [
        {
          "output_type": "execute_result",
          "data": {
            "text/plain": [
              "133180560489664"
            ]
          },
          "metadata": {},
          "execution_count": 140
        }
      ],
      "source": [
        "#30\n",
        "#가변 시퀀스의 복합 할당 연산자 곱 결과\n",
        "\n",
        "l = [1,2,3]\n",
        "id(l)"
      ]
    },
    {
      "cell_type": "code",
      "execution_count": 141,
      "metadata": {
        "colab": {
          "base_uri": "https://localhost:8080/"
        },
        "id": "4hxZUrwLx5CF",
        "outputId": "5dc62258-befd-4027-dd3d-7af8a2c9146b"
      },
      "outputs": [
        {
          "output_type": "execute_result",
          "data": {
            "text/plain": [
              "[1, 2, 3, 1, 2, 3]"
            ]
          },
          "metadata": {},
          "execution_count": 141
        }
      ],
      "source": [
        "#30-2\n",
        "#가변 시퀀스의 복합 할당 연산자 곱 결과\n",
        "\n",
        "l *= 2\n",
        "l"
      ]
    },
    {
      "cell_type": "code",
      "execution_count": 142,
      "metadata": {
        "colab": {
          "base_uri": "https://localhost:8080/"
        },
        "id": "kisAhD3hx5CF",
        "outputId": "07343768-c988-4d64-be60-6cbd6b88fa63"
      },
      "outputs": [
        {
          "output_type": "execute_result",
          "data": {
            "text/plain": [
              "133180560489664"
            ]
          },
          "metadata": {},
          "execution_count": 142
        }
      ],
      "source": [
        "#30-2\n",
        "#가변 시퀀스의 복합 할당 연산자 곱 결과\n",
        "\n",
        "id(l)"
      ]
    },
    {
      "cell_type": "code",
      "execution_count": 143,
      "metadata": {
        "colab": {
          "base_uri": "https://localhost:8080/"
        },
        "id": "hdljStmcx5CF",
        "outputId": "1209520e-7d44-4fd1-e726-83358e8a6e4f"
      },
      "outputs": [
        {
          "output_type": "execute_result",
          "data": {
            "text/plain": [
              "133179955748608"
            ]
          },
          "metadata": {},
          "execution_count": 143
        }
      ],
      "source": [
        "#31\n",
        "#불변 시퀀스의 복합 할당 연산자 곱 결과\n",
        "\n",
        "t = (1, 2, 3)\n",
        "id(t)"
      ]
    },
    {
      "cell_type": "code",
      "execution_count": 144,
      "metadata": {
        "colab": {
          "base_uri": "https://localhost:8080/"
        },
        "id": "0bdKk7T8x5CF",
        "outputId": "f50c29e7-eab9-4d5d-9cce-a9e3d6c8cc15"
      },
      "outputs": [
        {
          "output_type": "execute_result",
          "data": {
            "text/plain": [
              "133180560164512"
            ]
          },
          "metadata": {},
          "execution_count": 144
        }
      ],
      "source": [
        "#31-2\n",
        "#불변 시퀀스의 복합 할당 연산자 곱 결과\n",
        "\n",
        "t *= 2\n",
        "id(t)"
      ]
    },
    {
      "cell_type": "code",
      "execution_count": 145,
      "metadata": {
        "colab": {
          "base_uri": "https://localhost:8080/",
          "height": 236
        },
        "id": "PuRsDyQEx5CF",
        "outputId": "47b5b382-1ee4-42f8-98d0-9b5cb0252d09"
      },
      "outputs": [
        {
          "output_type": "stream",
          "name": "stdout",
          "text": [
            "(1, 2, [30, 40])\n"
          ]
        },
        {
          "output_type": "error",
          "ename": "TypeError",
          "evalue": "'tuple' object does not support item assignment",
          "traceback": [
            "\u001b[0;31m---------------------------------------------------------------------------\u001b[0m",
            "\u001b[0;31mTypeError\u001b[0m                                 Traceback (most recent call last)",
            "\u001b[0;32m<ipython-input-145-955121d2fda4>\u001b[0m in \u001b[0;36m<cell line: 7>\u001b[0;34m()\u001b[0m\n\u001b[1;32m      5\u001b[0m \u001b[0mprint\u001b[0m\u001b[0;34m(\u001b[0m\u001b[0mt\u001b[0m\u001b[0;34m)\u001b[0m\u001b[0;34m\u001b[0m\u001b[0;34m\u001b[0m\u001b[0m\n\u001b[1;32m      6\u001b[0m \u001b[0;34m\u001b[0m\u001b[0m\n\u001b[0;32m----> 7\u001b[0;31m \u001b[0mt\u001b[0m\u001b[0;34m[\u001b[0m\u001b[0;36m2\u001b[0m\u001b[0;34m]\u001b[0m \u001b[0;34m+=\u001b[0m \u001b[0;34m[\u001b[0m\u001b[0;36m50\u001b[0m\u001b[0;34m,\u001b[0m \u001b[0;36m60\u001b[0m\u001b[0;34m]\u001b[0m\u001b[0;34m\u001b[0m\u001b[0;34m\u001b[0m\u001b[0m\n\u001b[0m\u001b[1;32m      8\u001b[0m \u001b[0;34m\u001b[0m\u001b[0m\n\u001b[1;32m      9\u001b[0m \"\"\"\n",
            "\u001b[0;31mTypeError\u001b[0m: 'tuple' object does not support item assignment"
          ]
        }
      ],
      "source": [
        "#32\n",
        "#퀴즈\n",
        "\n",
        "t = (1, 2, [30, 40])\n",
        "print(t)\n",
        "\n",
        "t[2] += [50, 60]\n",
        "\n",
        "\"\"\"\n",
        "a. t는 (1, 2, [30, 40, 50, 60])이 된다.\n",
        "b. '튜플 객체는 항목 할당을 지원하지 않는다'는 메시지와 함께 TypeError가 발생한다.\n",
        "c. a와 b 둘 다 틀리다.\n",
        "d. a와 b 둘 다 맞다.\n",
        "\"\"\"\n",
        "\n",
        "#정답 : d"
      ]
    },
    {
      "cell_type": "code",
      "execution_count": 146,
      "metadata": {
        "colab": {
          "base_uri": "https://localhost:8080/"
        },
        "id": "EbrUl0vUx5CF",
        "outputId": "f48aa66f-18ad-41e0-9633-89c7cf5a92b0"
      },
      "outputs": [
        {
          "output_type": "stream",
          "name": "stdout",
          "text": [
            "(1, 2, [30, 40, 50, 60])\n"
          ]
        }
      ],
      "source": [
        "#33\n",
        "#퀴즈 코드 수행 결과\n",
        "\n",
        "print(t)"
      ]
    },
    {
      "cell_type": "code",
      "execution_count": 147,
      "metadata": {
        "colab": {
          "base_uri": "https://localhost:8080/"
        },
        "id": "y34B9aYXx5CG",
        "outputId": "350ec050-5d57-411c-c769-9912defd3eb4"
      },
      "outputs": [
        {
          "output_type": "execute_result",
          "data": {
            "text/plain": [
              "['apple', 'banana', 'grape', 'raspberry']"
            ]
          },
          "metadata": {},
          "execution_count": 147
        }
      ],
      "source": [
        "#34\n",
        "#리스트 정렬:sorted()\n",
        "\n",
        "fruits = ['grape', 'raspberry', 'apple', 'banana']\n",
        "sorted(fruits)"
      ]
    },
    {
      "cell_type": "code",
      "execution_count": 148,
      "metadata": {
        "colab": {
          "base_uri": "https://localhost:8080/"
        },
        "id": "DH6KsDONx5CG",
        "outputId": "5eed8951-7d66-4667-d30c-c31ad2bb290c"
      },
      "outputs": [
        {
          "output_type": "execute_result",
          "data": {
            "text/plain": [
              "['grape', 'raspberry', 'apple', 'banana']"
            ]
          },
          "metadata": {},
          "execution_count": 148
        }
      ],
      "source": [
        "#34-2\n",
        "#리스트 정렬:sorted()\n",
        "\n",
        "fruits"
      ]
    },
    {
      "cell_type": "code",
      "execution_count": 149,
      "metadata": {
        "colab": {
          "base_uri": "https://localhost:8080/"
        },
        "id": "J30R8uJrx5CG",
        "outputId": "8a250aac-4b53-4296-dc45-5416060ab640"
      },
      "outputs": [
        {
          "output_type": "execute_result",
          "data": {
            "text/plain": [
              "['raspberry', 'grape', 'banana', 'apple']"
            ]
          },
          "metadata": {},
          "execution_count": 149
        }
      ],
      "source": [
        "#34-3\n",
        "#리스트 정렬:sorted()\n",
        "\n",
        "sorted(fruits, reverse=True)"
      ]
    },
    {
      "cell_type": "code",
      "execution_count": 150,
      "metadata": {
        "colab": {
          "base_uri": "https://localhost:8080/"
        },
        "id": "fCAfdxaXx5CG",
        "outputId": "85948063-7290-47b6-c6b5-6244ae2f9741"
      },
      "outputs": [
        {
          "output_type": "execute_result",
          "data": {
            "text/plain": [
              "['grape', 'apple', 'banana', 'raspberry']"
            ]
          },
          "metadata": {},
          "execution_count": 150
        }
      ],
      "source": [
        "# 예제 34-4\n",
        "#리스트 정렬:sorted()\n",
        "\n",
        "sorted(fruits, key=len)"
      ]
    },
    {
      "cell_type": "code",
      "execution_count": 151,
      "metadata": {
        "colab": {
          "base_uri": "https://localhost:8080/"
        },
        "id": "7kdAsXZSx5CG",
        "outputId": "469e7162-a29a-4bdf-e654-9e6a9e5784db"
      },
      "outputs": [
        {
          "output_type": "execute_result",
          "data": {
            "text/plain": [
              "['raspberry', 'banana', 'grape', 'apple']"
            ]
          },
          "metadata": {},
          "execution_count": 151
        }
      ],
      "source": [
        "#35\n",
        "#리스트 정렬:list.sort()\n",
        "\n",
        "sorted(fruits, key=len, reverse=True)"
      ]
    },
    {
      "cell_type": "code",
      "execution_count": 152,
      "metadata": {
        "colab": {
          "base_uri": "https://localhost:8080/"
        },
        "id": "A6A6l8rCx5CG",
        "outputId": "bf1e10d2-7102-4500-a10d-e313c2dd9bfd"
      },
      "outputs": [
        {
          "output_type": "execute_result",
          "data": {
            "text/plain": [
              "['grape', 'raspberry', 'apple', 'banana']"
            ]
          },
          "metadata": {},
          "execution_count": 152
        }
      ],
      "source": [
        "#35-2\n",
        "#리스트 정렬:list.sort()\n",
        "\n",
        "fruits"
      ]
    },
    {
      "cell_type": "code",
      "execution_count": 153,
      "metadata": {
        "colab": {
          "base_uri": "https://localhost:8080/"
        },
        "id": "zAQ8TbX3x5CH",
        "outputId": "02b0a727-6b19-41d7-d1f8-2ab0384907ed"
      },
      "outputs": [
        {
          "output_type": "execute_result",
          "data": {
            "text/plain": [
              "['apple', 'banana', 'grape', 'raspberry']"
            ]
          },
          "metadata": {},
          "execution_count": 153
        }
      ],
      "source": [
        "#35-3\n",
        "#리스트 정렬:list.sort()\n",
        "\n",
        "fruits.sort()\n",
        "fruits"
      ]
    },
    {
      "cell_type": "code",
      "execution_count": 156,
      "metadata": {
        "colab": {
          "base_uri": "https://localhost:8080/"
        },
        "id": "oqqmr4c7x5CH",
        "outputId": "c8222376-73d9-4686-9200-f537be2594e9"
      },
      "outputs": [
        {
          "output_type": "execute_result",
          "data": {
            "text/plain": [
              "0.22911278977456284"
            ]
          },
          "metadata": {},
          "execution_count": 156
        }
      ],
      "source": [
        "#36\n",
        "#커다란 실수 배열의 생성\n",
        "\n",
        "from array import array\n",
        "from random import random\n",
        "\n",
        "floats = array('d', (random() for _ in range(10**7)))\n",
        "floats[-1]"
      ]
    },
    {
      "cell_type": "code",
      "execution_count": 157,
      "metadata": {
        "colab": {
          "base_uri": "https://localhost:8080/"
        },
        "id": "p17JaStkx5CH",
        "outputId": "a8175e65-b662-494e-da34-5c07062a3cca"
      },
      "outputs": [
        {
          "output_type": "execute_result",
          "data": {
            "text/plain": [
              "0.22911278977456284"
            ]
          },
          "metadata": {},
          "execution_count": 157
        }
      ],
      "source": [
        "#37\n",
        "#커다란 실수 배열의 저장/로딩\n",
        "\n",
        "with open('floats.bin', 'wb') as f:\n",
        "    floats.tofile(f)\n",
        "\n",
        "floats2 = array('d')\n",
        "with open('floats.bin', 'rb') as f:\n",
        "    floats2.fromfile(f, 10**7)\n",
        "\n",
        "floats2[-1]"
      ]
    },
    {
      "cell_type": "code",
      "execution_count": 160,
      "metadata": {
        "colab": {
          "base_uri": "https://localhost:8080/"
        },
        "id": "GgTTwvQ4x5CH",
        "outputId": "a96e18e6-affc-46f5-fdc3-42972564fdc2"
      },
      "outputs": [
        {
          "output_type": "execute_result",
          "data": {
            "text/plain": [
              "True"
            ]
          },
          "metadata": {},
          "execution_count": 160
        }
      ],
      "source": [
        "#37-2\n",
        "#커다란 실수 배열의 저장/로딩\n",
        "\n",
        "floats == floats2"
      ]
    },
    {
      "cell_type": "code",
      "execution_count": 161,
      "metadata": {
        "colab": {
          "base_uri": "https://localhost:8080/"
        },
        "id": "BzOoaq78x5CH",
        "outputId": "0f159a49-4186-491b-fcb0-3235e676ff62"
      },
      "outputs": [
        {
          "output_type": "execute_result",
          "data": {
            "text/plain": [
              "5"
            ]
          },
          "metadata": {},
          "execution_count": 161
        }
      ],
      "source": [
        "#38\n",
        "#배열 항목 값의 바이트 중 하나 변경\n",
        "\n",
        "import array\n",
        "numbers = array.array('h', [-2, -1, 0, 1, 2])\n",
        "memv = memoryview(numbers)\n",
        "len(memv)"
      ]
    },
    {
      "cell_type": "code",
      "execution_count": 162,
      "metadata": {
        "colab": {
          "base_uri": "https://localhost:8080/"
        },
        "id": "JRwyEFAxx5CH",
        "outputId": "5ad0db1c-6a62-4ad7-b421-189386281774"
      },
      "outputs": [
        {
          "output_type": "execute_result",
          "data": {
            "text/plain": [
              "-2"
            ]
          },
          "metadata": {},
          "execution_count": 162
        }
      ],
      "source": [
        "#38-2\n",
        "#배열 항목 값의 바이트 중 하나 변경\n",
        "\n",
        "memv[0]"
      ]
    },
    {
      "cell_type": "code",
      "execution_count": 163,
      "metadata": {
        "colab": {
          "base_uri": "https://localhost:8080/"
        },
        "id": "9YrfnRpLx5CI",
        "outputId": "821a02b1-1737-4640-f1cd-81d8427fd02b"
      },
      "outputs": [
        {
          "output_type": "execute_result",
          "data": {
            "text/plain": [
              "[254, 255, 255, 255, 0, 0, 1, 0, 2, 0]"
            ]
          },
          "metadata": {},
          "execution_count": 163
        }
      ],
      "source": [
        "#38-3\n",
        "#배열 항목 값의 바이트 중 하나 변경\n",
        "\n",
        "memv_oct = memv.cast('B')\n",
        "memv_oct.tolist()"
      ]
    },
    {
      "cell_type": "code",
      "execution_count": 164,
      "metadata": {
        "colab": {
          "base_uri": "https://localhost:8080/"
        },
        "id": "0aC44CCHx5CI",
        "outputId": "88aebdd1-1f1e-4861-f8c0-efb360da7966"
      },
      "outputs": [
        {
          "output_type": "execute_result",
          "data": {
            "text/plain": [
              "array('h', [-2, -1, 1024, 1, 2])"
            ]
          },
          "metadata": {},
          "execution_count": 164
        }
      ],
      "source": [
        "#38-4\n",
        "#배열 항목 값의 바이트 중 하나 변경\n",
        "\n",
        "memv_oct[5] = 4\n",
        "numbers"
      ]
    },
    {
      "cell_type": "code",
      "execution_count": 165,
      "metadata": {
        "colab": {
          "base_uri": "https://localhost:8080/"
        },
        "id": "a1nB0zKdx5CI",
        "outputId": "ecb46701-fa43-4dbc-ca8a-0b017ce0fb8d"
      },
      "outputs": [
        {
          "output_type": "execute_result",
          "data": {
            "text/plain": [
              "array([ 0,  1,  2,  3,  4,  5,  6,  7,  8,  9, 10, 11])"
            ]
          },
          "metadata": {},
          "execution_count": 165
        }
      ],
      "source": [
        "#39\n",
        "#numpy.ndarray에서 행과 열을 이용한 기본 연산\n",
        "\n",
        "import numpy\n",
        "a = numpy.arange(12)\n",
        "a"
      ]
    },
    {
      "cell_type": "code",
      "source": [
        "#39-2\n",
        "#numpy.ndarray에서 행과 열을 이용한 기본 연산\n",
        "\n",
        "type(a)"
      ],
      "metadata": {
        "colab": {
          "base_uri": "https://localhost:8080/"
        },
        "id": "DJDBtfEVzj_4",
        "outputId": "c4349418-c6cd-4b2e-f77a-78d659932d2b"
      },
      "execution_count": 166,
      "outputs": [
        {
          "output_type": "execute_result",
          "data": {
            "text/plain": [
              "numpy.ndarray"
            ]
          },
          "metadata": {},
          "execution_count": 166
        }
      ]
    },
    {
      "cell_type": "code",
      "source": [
        "#40\n",
        "#numpy.ndarray에서 행과 열을 이용한 기본 연산 2\n",
        "\n",
        "a.shape"
      ],
      "metadata": {
        "colab": {
          "base_uri": "https://localhost:8080/"
        },
        "id": "5iPORL8Vzo5b",
        "outputId": "163d613e-24b1-493b-c4c2-8786c449dd08"
      },
      "execution_count": 167,
      "outputs": [
        {
          "output_type": "execute_result",
          "data": {
            "text/plain": [
              "(12,)"
            ]
          },
          "metadata": {},
          "execution_count": 167
        }
      ]
    },
    {
      "cell_type": "code",
      "source": [
        "#40-2\n",
        "#numpy.ndarray에서 행과 열을 이용한 기본 연산 2\n",
        "\n",
        "a.shape = 3, 4\n",
        "a"
      ],
      "metadata": {
        "colab": {
          "base_uri": "https://localhost:8080/"
        },
        "id": "NTIgwJT1zunh",
        "outputId": "e52781a6-aa79-4ffa-af35-ab6b1e238d1a"
      },
      "execution_count": 168,
      "outputs": [
        {
          "output_type": "execute_result",
          "data": {
            "text/plain": [
              "array([[ 0,  1,  2,  3],\n",
              "       [ 4,  5,  6,  7],\n",
              "       [ 8,  9, 10, 11]])"
            ]
          },
          "metadata": {},
          "execution_count": 168
        }
      ]
    },
    {
      "cell_type": "code",
      "source": [
        "#41\n",
        "#numpy.ndarray에서 행과 열을 이용한 기본 연산 3\n",
        "\n",
        "a[2]"
      ],
      "metadata": {
        "colab": {
          "base_uri": "https://localhost:8080/"
        },
        "id": "gW8bDGQizy0b",
        "outputId": "8b2680d4-0454-437f-c4ef-636e33b123dd"
      },
      "execution_count": 169,
      "outputs": [
        {
          "output_type": "execute_result",
          "data": {
            "text/plain": [
              "array([ 8,  9, 10, 11])"
            ]
          },
          "metadata": {},
          "execution_count": 169
        }
      ]
    },
    {
      "cell_type": "code",
      "source": [
        "#41-2\n",
        "#numpy.ndarray에서 행과 열을 이용한 기본 연산 3\n",
        "\n",
        "a[2, 1]"
      ],
      "metadata": {
        "colab": {
          "base_uri": "https://localhost:8080/"
        },
        "id": "ExaSqG0Hz2hb",
        "outputId": "5666c207-fda7-44dd-fb90-a22680fb3617"
      },
      "execution_count": 170,
      "outputs": [
        {
          "output_type": "execute_result",
          "data": {
            "text/plain": [
              "9"
            ]
          },
          "metadata": {},
          "execution_count": 170
        }
      ]
    },
    {
      "cell_type": "code",
      "source": [
        "#41-3\n",
        "#numpy.ndarray에서 행과 열을 이용한 기본 연산 3\n",
        "\n",
        "a[:, 1]"
      ],
      "metadata": {
        "colab": {
          "base_uri": "https://localhost:8080/"
        },
        "id": "1M_bAbcMz7D8",
        "outputId": "f22885d0-822a-43bc-c33f-94ac2ea01fa2"
      },
      "execution_count": 171,
      "outputs": [
        {
          "output_type": "execute_result",
          "data": {
            "text/plain": [
              "array([1, 5, 9])"
            ]
          },
          "metadata": {},
          "execution_count": 171
        }
      ]
    },
    {
      "cell_type": "code",
      "source": [
        "#42\n",
        "#numpy.ndarray에서 행과 열을 이용한 기본 연산 4\n",
        "\n",
        "a.transpose()"
      ],
      "metadata": {
        "colab": {
          "base_uri": "https://localhost:8080/"
        },
        "id": "Xl85D9r3z_Bf",
        "outputId": "00934b3e-0a93-4fa6-f641-dad93963f031"
      },
      "execution_count": 172,
      "outputs": [
        {
          "output_type": "execute_result",
          "data": {
            "text/plain": [
              "array([[ 0,  4,  8],\n",
              "       [ 1,  5,  9],\n",
              "       [ 2,  6, 10],\n",
              "       [ 3,  7, 11]])"
            ]
          },
          "metadata": {},
          "execution_count": 172
        }
      ]
    },
    {
      "cell_type": "code",
      "source": [
        "#43\n",
        "#덱 이용하기1\n",
        "\n",
        "from collections import deque\n",
        "dq = deque(range(10), maxlen=10)\n",
        "dq"
      ],
      "metadata": {
        "colab": {
          "base_uri": "https://localhost:8080/"
        },
        "id": "HTPUweBN0DC-",
        "outputId": "880be248-9392-4f82-9759-6e3454f9e159"
      },
      "execution_count": 173,
      "outputs": [
        {
          "output_type": "execute_result",
          "data": {
            "text/plain": [
              "deque([0, 1, 2, 3, 4, 5, 6, 7, 8, 9])"
            ]
          },
          "metadata": {},
          "execution_count": 173
        }
      ]
    },
    {
      "cell_type": "code",
      "source": [
        "#43-2\n",
        "#덱 이용하기1\n",
        "\n",
        "dq.rotate(3)\n",
        "dq"
      ],
      "metadata": {
        "colab": {
          "base_uri": "https://localhost:8080/"
        },
        "id": "H_WZAfEy0N4I",
        "outputId": "77b528b2-a61e-42eb-8d65-ccc94d5474c9"
      },
      "execution_count": 175,
      "outputs": [
        {
          "output_type": "execute_result",
          "data": {
            "text/plain": [
              "deque([4, 5, 6, 7, 8, 9, 0, 1, 2, 3])"
            ]
          },
          "metadata": {},
          "execution_count": 175
        }
      ]
    },
    {
      "cell_type": "code",
      "source": [
        "#43-3\n",
        "#덱 이용하기1\n",
        "\n",
        "dq.rotate(-4)\n",
        "dq"
      ],
      "metadata": {
        "colab": {
          "base_uri": "https://localhost:8080/"
        },
        "id": "nBMU2Kl20Rwl",
        "outputId": "8a0e871e-8087-4466-d262-1e01c48da7db"
      },
      "execution_count": 176,
      "outputs": [
        {
          "output_type": "execute_result",
          "data": {
            "text/plain": [
              "deque([8, 9, 0, 1, 2, 3, 4, 5, 6, 7])"
            ]
          },
          "metadata": {},
          "execution_count": 176
        }
      ]
    },
    {
      "cell_type": "code",
      "source": [
        "#44\n",
        "#덱 이용하기2\n",
        "\n",
        "dq.appendleft(-1)\n",
        "dq"
      ],
      "metadata": {
        "colab": {
          "base_uri": "https://localhost:8080/"
        },
        "id": "7wY6j-aA0Yqw",
        "outputId": "bac841e9-2921-4acb-b969-ccb31035dd68"
      },
      "execution_count": 177,
      "outputs": [
        {
          "output_type": "execute_result",
          "data": {
            "text/plain": [
              "deque([-1, 8, 9, 0, 1, 2, 3, 4, 5, 6])"
            ]
          },
          "metadata": {},
          "execution_count": 177
        }
      ]
    },
    {
      "cell_type": "code",
      "source": [
        "#44-2\n",
        "#덱 이용하기2\n",
        "\n",
        "dq.extend([11, 22, 33])\n",
        "dq"
      ],
      "metadata": {
        "colab": {
          "base_uri": "https://localhost:8080/"
        },
        "id": "ppq1ggiD0b9c",
        "outputId": "7d67709c-1d1a-455d-f62e-7f43c1aefb5e"
      },
      "execution_count": 178,
      "outputs": [
        {
          "output_type": "execute_result",
          "data": {
            "text/plain": [
              "deque([0, 1, 2, 3, 4, 5, 6, 11, 22, 33])"
            ]
          },
          "metadata": {},
          "execution_count": 178
        }
      ]
    },
    {
      "cell_type": "code",
      "source": [
        "#44-3\n",
        "#덱 이용하기2\n",
        "\n",
        "dq.extendleft([10, 20, 30, 40])\n",
        "dq"
      ],
      "metadata": {
        "colab": {
          "base_uri": "https://localhost:8080/"
        },
        "id": "HTWlNMHR0gaz",
        "outputId": "a7b3aef0-ce4b-41f6-9fa8-0b3ba075784d"
      },
      "execution_count": 179,
      "outputs": [
        {
          "output_type": "execute_result",
          "data": {
            "text/plain": [
              "deque([40, 30, 20, 10, 0, 1, 2, 3, 4, 5])"
            ]
          },
          "metadata": {},
          "execution_count": 179
        }
      ]
    }
  ],
  "metadata": {
    "kernelspec": {
      "display_name": "Python 3",
      "language": "python",
      "name": "python3"
    },
    "language_info": {
      "codemirror_mode": {
        "name": "ipython",
        "version": 3
      },
      "file_extension": ".py",
      "mimetype": "text/x-python",
      "name": "python",
      "nbconvert_exporter": "python",
      "pygments_lexer": "ipython3",
      "version": "3.11.9"
    },
    "colab": {
      "provenance": []
    }
  },
  "nbformat": 4,
  "nbformat_minor": 0
}