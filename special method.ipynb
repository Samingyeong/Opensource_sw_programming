{
 "cells": [
  {
   "cell_type": "code",
   "execution_count": 38,
   "metadata": {},
   "outputs": [
    {
     "name": "stdout",
     "output_type": "stream",
     "text": [
      "Value for 3\n",
      "Value for 3\n"
     ]
    }
   ],
   "source": [
    "##특별 메서드 (special method)##\n",
    "#__getitem__() : 인덱싱 지원 클래스에 사용, 객체를 배열처럼 인덱싱 할 수 있도록 해주는 역할\n",
    "\n",
    "#ex1\n",
    "class MyCollection:\n",
    "    def __getitem__(self, key):\n",
    "        return f\"Value for {key}\"\n",
    "    \n",
    "\n",
    "collection = MyCollection()\n",
    "print(collection.__getitem__(3))\n",
    "print(collection[3])"
   ]
  },
  {
   "cell_type": "code",
   "execution_count": 39,
   "metadata": {},
   "outputs": [],
   "source": [
    "##특별 메서드 (special method)##\n",
    "#__getitem__()과 __len__() 구현\n",
    "\n",
    "#ex2\n",
    "import collections\n",
    "\n",
    "Card = collections.namedtuple('Card', ['rank', 'suit'])\n",
    "#튜플객체명 = collections.namedtuple('객체이름', ['특성들'])\n",
    "\n",
    "class FrenchDeck:\n",
    "    ranks = [str(n) for n in range(2,11)] +list('JOKA') #2~10, J, O, K, A\n",
    "    suits = 'spades diamonds clubs hearts'.split()\n",
    "\n",
    "    def __init__(self):\n",
    "        self._cards = [Card(rank, suit) for suit in self.suits\n",
    "                       for rank in self.ranks]\n",
    "    \n",
    "    def __len__(self):\n",
    "        return len(self._cards)\n",
    "    \n",
    "    def __getitem__(self, position):\n",
    "        return self._cards[position]"
   ]
  },
  {
   "cell_type": "code",
   "execution_count": 40,
   "metadata": {},
   "outputs": [
    {
     "data": {
      "text/plain": [
       "Card(rank='7', suit='diamonds')"
      ]
     },
     "execution_count": 40,
     "metadata": {},
     "output_type": "execute_result"
    }
   ],
   "source": [
    "#ex3\n",
    "beer_card = Card('7', 'diamonds')\n",
    "beer_card"
   ]
  },
  {
   "cell_type": "code",
   "execution_count": 41,
   "metadata": {},
   "outputs": [
    {
     "name": "stdout",
     "output_type": "stream",
     "text": [
      "Ranks : ['2', '3', '4', '5', '6', '7', '8', '9', '10', 'J', 'O', 'K', 'A']\n",
      "len : 52\n"
     ]
    }
   ],
   "source": [
    "#ex4\n",
    "deck = FrenchDeck()\n",
    "print(f\"Ranks : {deck.ranks}\")\n",
    "print(f\"len : {len(deck)}\")"
   ]
  },
  {
   "cell_type": "code",
   "execution_count": 42,
   "metadata": {},
   "outputs": [
    {
     "name": "stdout",
     "output_type": "stream",
     "text": [
      "Card(rank='2', suit='spades')\n",
      "Card(rank='A', suit='hearts')\n"
     ]
    }
   ],
   "source": [
    "#ex5\n",
    "# 카드 한벌(deck)에서 특정 카드 읽기 가능\n",
    "# deck[0]: 첫번째 카드\n",
    "# deck[-1]: 마지막 카드\n",
    "# 인덱스 접근은 __getitem__() 메서드 제공\n",
    "print(deck[0])\n",
    "print(deck[-1])"
   ]
  },
  {
   "cell_type": "code",
   "execution_count": 43,
   "metadata": {},
   "outputs": [
    {
     "name": "stdout",
     "output_type": "stream",
     "text": [
      "Card(rank='A', suit='hearts')\n",
      "Card(rank='5', suit='spades')\n",
      "Card(rank='10', suit='diamonds')\n"
     ]
    }
   ],
   "source": [
    "#ex6\n",
    "# 임의의 카드를 골라내는 메서드\n",
    "# 파이썬에서 random.choice() 메서드 제공\n",
    "from random import choice\n",
    "print(choice(deck))\n",
    "print(choice(deck))\n",
    "print(choice(deck))"
   ]
  },
  {
   "cell_type": "code",
   "execution_count": 44,
   "metadata": {},
   "outputs": [
    {
     "data": {
      "text/plain": [
       "[Card(rank='2', suit='spades'),\n",
       " Card(rank='3', suit='spades'),\n",
       " Card(rank='4', suit='spades')]"
      ]
     },
     "execution_count": 44,
     "metadata": {},
     "output_type": "execute_result"
    }
   ],
   "source": [
    "#ex7\n",
    "# deck의 카드를 3장 가져오는 경우\n",
    "deck[:3]"
   ]
  },
  {
   "cell_type": "code",
   "execution_count": 45,
   "metadata": {},
   "outputs": [
    {
     "data": {
      "text/plain": [
       "[Card(rank='A', suit='spades'),\n",
       " Card(rank='A', suit='diamonds'),\n",
       " Card(rank='A', suit='clubs'),\n",
       " Card(rank='A', suit='hearts')]"
      ]
     },
     "execution_count": 45,
     "metadata": {},
     "output_type": "execute_result"
    }
   ],
   "source": [
    "#ex8\n",
    "# deck의 카드를 12번 인덱스에서 시작해서 13개씩 건너뛰어 가져오는 방법\n",
    "deck[12::13]"
   ]
  },
  {
   "cell_type": "code",
   "execution_count": 46,
   "metadata": {},
   "outputs": [
    {
     "name": "stdout",
     "output_type": "stream",
     "text": [
      "Card(rank='2', suit='spades')\n",
      "Card(rank='3', suit='spades')\n",
      "Card(rank='4', suit='spades')\n",
      "Card(rank='5', suit='spades')\n",
      "Card(rank='6', suit='spades')\n",
      "Card(rank='7', suit='spades')\n",
      "Card(rank='8', suit='spades')\n",
      "Card(rank='9', suit='spades')\n",
      "Card(rank='10', suit='spades')\n",
      "Card(rank='J', suit='spades')\n",
      "Card(rank='O', suit='spades')\n",
      "Card(rank='K', suit='spades')\n",
      "Card(rank='A', suit='spades')\n",
      "Card(rank='2', suit='diamonds')\n",
      "Card(rank='3', suit='diamonds')\n",
      "Card(rank='4', suit='diamonds')\n",
      "Card(rank='5', suit='diamonds')\n",
      "Card(rank='6', suit='diamonds')\n",
      "Card(rank='7', suit='diamonds')\n",
      "Card(rank='8', suit='diamonds')\n",
      "Card(rank='9', suit='diamonds')\n",
      "Card(rank='10', suit='diamonds')\n",
      "Card(rank='J', suit='diamonds')\n",
      "Card(rank='O', suit='diamonds')\n",
      "Card(rank='K', suit='diamonds')\n",
      "Card(rank='A', suit='diamonds')\n",
      "Card(rank='2', suit='clubs')\n",
      "Card(rank='3', suit='clubs')\n",
      "Card(rank='4', suit='clubs')\n",
      "Card(rank='5', suit='clubs')\n",
      "Card(rank='6', suit='clubs')\n",
      "Card(rank='7', suit='clubs')\n",
      "Card(rank='8', suit='clubs')\n",
      "Card(rank='9', suit='clubs')\n",
      "Card(rank='10', suit='clubs')\n",
      "Card(rank='J', suit='clubs')\n",
      "Card(rank='O', suit='clubs')\n",
      "Card(rank='K', suit='clubs')\n",
      "Card(rank='A', suit='clubs')\n",
      "Card(rank='2', suit='hearts')\n",
      "Card(rank='3', suit='hearts')\n",
      "Card(rank='4', suit='hearts')\n",
      "Card(rank='5', suit='hearts')\n",
      "Card(rank='6', suit='hearts')\n",
      "Card(rank='7', suit='hearts')\n",
      "Card(rank='8', suit='hearts')\n",
      "Card(rank='9', suit='hearts')\n",
      "Card(rank='10', suit='hearts')\n",
      "Card(rank='J', suit='hearts')\n",
      "Card(rank='O', suit='hearts')\n",
      "Card(rank='K', suit='hearts')\n",
      "Card(rank='A', suit='hearts')\n"
     ]
    }
   ],
   "source": [
    "#ex9\n",
    "# __getitem__()을 구현함으로 인해 deck 반복 가능\n",
    "for card in deck:\n",
    "    print(card)"
   ]
  },
  {
   "cell_type": "code",
   "execution_count": 47,
   "metadata": {},
   "outputs": [
    {
     "name": "stdout",
     "output_type": "stream",
     "text": [
      "Card(rank='A', suit='hearts')\n",
      "Card(rank='K', suit='hearts')\n",
      "Card(rank='O', suit='hearts')\n",
      "Card(rank='J', suit='hearts')\n",
      "Card(rank='10', suit='hearts')\n",
      "Card(rank='9', suit='hearts')\n",
      "Card(rank='8', suit='hearts')\n",
      "Card(rank='7', suit='hearts')\n",
      "Card(rank='6', suit='hearts')\n",
      "Card(rank='5', suit='hearts')\n",
      "Card(rank='4', suit='hearts')\n",
      "Card(rank='3', suit='hearts')\n",
      "Card(rank='2', suit='hearts')\n",
      "Card(rank='A', suit='clubs')\n",
      "Card(rank='K', suit='clubs')\n",
      "Card(rank='O', suit='clubs')\n",
      "Card(rank='J', suit='clubs')\n",
      "Card(rank='10', suit='clubs')\n",
      "Card(rank='9', suit='clubs')\n",
      "Card(rank='8', suit='clubs')\n",
      "Card(rank='7', suit='clubs')\n",
      "Card(rank='6', suit='clubs')\n",
      "Card(rank='5', suit='clubs')\n",
      "Card(rank='4', suit='clubs')\n",
      "Card(rank='3', suit='clubs')\n",
      "Card(rank='2', suit='clubs')\n",
      "Card(rank='A', suit='diamonds')\n",
      "Card(rank='K', suit='diamonds')\n",
      "Card(rank='O', suit='diamonds')\n",
      "Card(rank='J', suit='diamonds')\n",
      "Card(rank='10', suit='diamonds')\n",
      "Card(rank='9', suit='diamonds')\n",
      "Card(rank='8', suit='diamonds')\n",
      "Card(rank='7', suit='diamonds')\n",
      "Card(rank='6', suit='diamonds')\n",
      "Card(rank='5', suit='diamonds')\n",
      "Card(rank='4', suit='diamonds')\n",
      "Card(rank='3', suit='diamonds')\n",
      "Card(rank='2', suit='diamonds')\n",
      "Card(rank='A', suit='spades')\n",
      "Card(rank='K', suit='spades')\n",
      "Card(rank='O', suit='spades')\n",
      "Card(rank='J', suit='spades')\n",
      "Card(rank='10', suit='spades')\n",
      "Card(rank='9', suit='spades')\n",
      "Card(rank='8', suit='spades')\n",
      "Card(rank='7', suit='spades')\n",
      "Card(rank='6', suit='spades')\n",
      "Card(rank='5', suit='spades')\n",
      "Card(rank='4', suit='spades')\n",
      "Card(rank='3', suit='spades')\n",
      "Card(rank='2', suit='spades')\n"
     ]
    }
   ],
   "source": [
    "#ex10\n",
    "# __getitem__()을 구현함으로 인해 deck 반복 가능\n",
    "for card in reversed(deck):\n",
    "    print(card)"
   ]
  },
  {
   "cell_type": "code",
   "execution_count": 49,
   "metadata": {},
   "outputs": [
    {
     "data": {
      "text/plain": [
       "21"
      ]
     },
     "execution_count": 49,
     "metadata": {},
     "output_type": "execute_result"
    }
   ],
   "source": [
    "#ex11\n",
    "# 정렬\n",
    "suit_values = dict(spades=3, hearts=2, diamonds=1, clubs=0)\n",
    "\n",
    "def spades_high(card):\n",
    "    rank_value = FrenchDeck.ranks.index(card.rank)\n",
    "    return rank_value * len(suit_values) + suit_values[card.suit]\n",
    "\n",
    "spades_high(beer_card)"
   ]
  },
  {
   "cell_type": "code",
   "execution_count": 50,
   "metadata": {},
   "outputs": [
    {
     "name": "stdout",
     "output_type": "stream",
     "text": [
      "The rank of Card(rank='2', suit='clubs') is 0.\n",
      "The rank of Card(rank='2', suit='diamonds') is 1.\n",
      "The rank of Card(rank='2', suit='hearts') is 2.\n",
      "The rank of Card(rank='2', suit='spades') is 3.\n",
      "The rank of Card(rank='3', suit='clubs') is 4.\n",
      "The rank of Card(rank='3', suit='diamonds') is 5.\n",
      "The rank of Card(rank='3', suit='hearts') is 6.\n",
      "The rank of Card(rank='3', suit='spades') is 7.\n",
      "The rank of Card(rank='4', suit='clubs') is 8.\n",
      "The rank of Card(rank='4', suit='diamonds') is 9.\n",
      "The rank of Card(rank='4', suit='hearts') is 10.\n",
      "The rank of Card(rank='4', suit='spades') is 11.\n",
      "The rank of Card(rank='5', suit='clubs') is 12.\n",
      "The rank of Card(rank='5', suit='diamonds') is 13.\n",
      "The rank of Card(rank='5', suit='hearts') is 14.\n",
      "The rank of Card(rank='5', suit='spades') is 15.\n",
      "The rank of Card(rank='6', suit='clubs') is 16.\n",
      "The rank of Card(rank='6', suit='diamonds') is 17.\n",
      "The rank of Card(rank='6', suit='hearts') is 18.\n",
      "The rank of Card(rank='6', suit='spades') is 19.\n",
      "The rank of Card(rank='7', suit='clubs') is 20.\n",
      "The rank of Card(rank='7', suit='diamonds') is 21.\n",
      "The rank of Card(rank='7', suit='hearts') is 22.\n",
      "The rank of Card(rank='7', suit='spades') is 23.\n",
      "The rank of Card(rank='8', suit='clubs') is 24.\n",
      "The rank of Card(rank='8', suit='diamonds') is 25.\n",
      "The rank of Card(rank='8', suit='hearts') is 26.\n",
      "The rank of Card(rank='8', suit='spades') is 27.\n",
      "The rank of Card(rank='9', suit='clubs') is 28.\n",
      "The rank of Card(rank='9', suit='diamonds') is 29.\n",
      "The rank of Card(rank='9', suit='hearts') is 30.\n",
      "The rank of Card(rank='9', suit='spades') is 31.\n",
      "The rank of Card(rank='10', suit='clubs') is 32.\n",
      "The rank of Card(rank='10', suit='diamonds') is 33.\n",
      "The rank of Card(rank='10', suit='hearts') is 34.\n",
      "The rank of Card(rank='10', suit='spades') is 35.\n",
      "The rank of Card(rank='J', suit='clubs') is 36.\n",
      "The rank of Card(rank='J', suit='diamonds') is 37.\n",
      "The rank of Card(rank='J', suit='hearts') is 38.\n",
      "The rank of Card(rank='J', suit='spades') is 39.\n",
      "The rank of Card(rank='O', suit='clubs') is 40.\n",
      "The rank of Card(rank='O', suit='diamonds') is 41.\n",
      "The rank of Card(rank='O', suit='hearts') is 42.\n",
      "The rank of Card(rank='O', suit='spades') is 43.\n",
      "The rank of Card(rank='K', suit='clubs') is 44.\n",
      "The rank of Card(rank='K', suit='diamonds') is 45.\n",
      "The rank of Card(rank='K', suit='hearts') is 46.\n",
      "The rank of Card(rank='K', suit='spades') is 47.\n",
      "The rank of Card(rank='A', suit='clubs') is 48.\n",
      "The rank of Card(rank='A', suit='diamonds') is 49.\n",
      "The rank of Card(rank='A', suit='hearts') is 50.\n",
      "The rank of Card(rank='A', suit='spades') is 51.\n"
     ]
    }
   ],
   "source": [
    "#sorted(list, key=function): list의 아이템을 function값 순서대로 정렬\n",
    "for card in sorted(deck, key=spades_high):\n",
    "    print('The rank of {} is {}.'.format(card, spades_high(card)))"
   ]
  },
  {
   "cell_type": "raw",
   "metadata": {
    "vscode": {
     "languageId": "raw"
    }
   },
   "source": [
    "##특별 메서드는 어떻게 사용되나?\n",
    "\n",
    "#특별 메서드는 사용자가 호출하는 것이 아니라 파이썬 인터프리터가 호출하기 위함\n",
    "#사용자는 len(), iter(), str() 등 관련된 내장 함수를 호출하는 것이 좋음"
   ]
  },
  {
   "cell_type": "code",
   "execution_count": 65,
   "metadata": {},
   "outputs": [
    {
     "data": {
      "text/plain": [
       "5.0"
      ]
     },
     "execution_count": 65,
     "metadata": {},
     "output_type": "execute_result"
    }
   ],
   "source": [
    "#ex12\n",
    "# 수치형 흉내내기\n",
    "# 2차원 유클리드 벡터를 나타내는 클래스 예제\n",
    "import math\n",
    "\n",
    "class Vector:\n",
    "    def __init__(self, x=0, y=0):\n",
    "        self.x = x\n",
    "        self.y = y\n",
    "\n",
    "    def __repr__(self):\n",
    "        return 'Vector(%r, %r)' % (self.x, self.y)\n",
    "    \n",
    "    def __abs__(self):\n",
    "        return math.hypot(self.x, self.y)\n",
    "    \n",
    "    def __bool__(self):\n",
    "        return bool(abs(self))\n",
    "    \n",
    "    def __add__(self, other):\n",
    "        x = self.x + other.x\n",
    "        y = self.y + other.y\n",
    "        return Vector(x, y)\n",
    "    \n",
    "    def __mul__(self, scalar):\n",
    "        return Vector(self.x * scalar, self.y * scalar)\n",
    "\n",
    "#test1   \n",
    "v = Vector(3, 4)\n",
    "abs(v)\n"
   ]
  },
  {
   "cell_type": "code",
   "execution_count": 67,
   "metadata": {},
   "outputs": [
    {
     "data": {
      "text/plain": [
       "15.0"
      ]
     },
     "execution_count": 67,
     "metadata": {},
     "output_type": "execute_result"
    }
   ],
   "source": [
    "#test2\n",
    "v*3\n",
    "abs(v*3)"
   ]
  },
  {
   "cell_type": "code",
   "execution_count": 68,
   "metadata": {},
   "outputs": [
    {
     "data": {
      "text/plain": [
       "Vector(4, 5)"
      ]
     },
     "execution_count": 68,
     "metadata": {},
     "output_type": "execute_result"
    }
   ],
   "source": [
    "#test3\n",
    "v1 = Vector(2, 4)\n",
    "v2 = Vector(2, 1)\n",
    "v1 + v2"
   ]
  },
  {
   "cell_type": "code",
   "execution_count": 69,
   "metadata": {},
   "outputs": [
    {
     "data": {
      "text/plain": [
       "Vector(3, 4)"
      ]
     },
     "execution_count": 69,
     "metadata": {},
     "output_type": "execute_result"
    }
   ],
   "source": [
    "v"
   ]
  },
  {
   "cell_type": "code",
   "execution_count": 74,
   "metadata": {},
   "outputs": [
    {
     "ename": "TypeError",
     "evalue": "Test() takes no arguments",
     "output_type": "error",
     "traceback": [
      "\u001b[1;31m---------------------------------------------------------------------------\u001b[0m",
      "\u001b[1;31mTypeError\u001b[0m                                 Traceback (most recent call last)",
      "Cell \u001b[1;32mIn[74], line 9\u001b[0m\n\u001b[0;32m      1\u001b[0m \u001b[38;5;66;03m#문자열 표현\u001b[39;00m\n\u001b[0;32m      2\u001b[0m \u001b[38;5;66;03m# __repr__() 특별 메서드는 객체를 문자열로 표현\u001b[39;00m\n\u001b[0;32m      3\u001b[0m \u001b[38;5;66;03m# __repr__()과 __str__()의 차이점\u001b[39;00m\n\u001b[1;32m   (...)\u001b[0m\n\u001b[0;32m      6\u001b[0m \n\u001b[0;32m      7\u001b[0m \u001b[38;5;66;03m#ex14\u001b[39;00m\n\u001b[0;32m      8\u001b[0m test \u001b[38;5;241m=\u001b[39m Test()\n\u001b[1;32m----> 9\u001b[0m test, \u001b[38;5;28;43mstr\u001b[39;49m\u001b[43m(\u001b[49m\u001b[43mtest\u001b[49m\u001b[43m)\u001b[49m\n",
      "Cell \u001b[1;32mIn[73], line 13\u001b[0m, in \u001b[0;36mTest.__str__\u001b[1;34m(self)\u001b[0m\n\u001b[0;32m     12\u001b[0m \u001b[38;5;28;01mdef\u001b[39;00m \u001b[38;5;21m__str__\u001b[39m(\u001b[38;5;28mself\u001b[39m):\n\u001b[1;32m---> 13\u001b[0m     \u001b[38;5;28;01mreturn\u001b[39;00m \u001b[43mTest\u001b[49m\u001b[43m(\u001b[49m\u001b[38;5;28;43mstr\u001b[39;49m\u001b[43m)\u001b[49m\n",
      "\u001b[1;31mTypeError\u001b[0m: Test() takes no arguments"
     ]
    }
   ],
   "source": [
    "#문자열 표현\n",
    "# __repr__() 특별 메서드는 객체를 문자열로 표현\n",
    "# __repr__()과 __str__()의 차이점\n",
    "# __str__()은 str() 생성자에 의해 호출 - print() 함수에 의해 사용\n",
    "# 둘 중에 하나만 구현해야 한다면 __repr__()을 구현하는 것이 좋음 - __str__()이 구현되어 있지 않을 경우 __repr__() 호출\n",
    "\n",
    "#ex14\n",
    "test = Test()\n",
    "test, str(test)"
   ]
  },
  {
   "cell_type": "code",
   "execution_count": 75,
   "metadata": {},
   "outputs": [
    {
     "ename": "TypeError",
     "evalue": "Test() takes no arguments",
     "output_type": "error",
     "traceback": [
      "\u001b[1;31m---------------------------------------------------------------------------\u001b[0m",
      "\u001b[1;31mTypeError\u001b[0m                                 Traceback (most recent call last)",
      "Cell \u001b[1;32mIn[75], line 2\u001b[0m\n\u001b[0;32m      1\u001b[0m \u001b[38;5;66;03m#ex15\u001b[39;00m\n\u001b[1;32m----> 2\u001b[0m \u001b[38;5;28mprint\u001b[39m(\u001b[38;5;28;43mstr\u001b[39;49m\u001b[43m(\u001b[49m\u001b[43mtest\u001b[49m\u001b[43m)\u001b[49m)\n",
      "Cell \u001b[1;32mIn[73], line 13\u001b[0m, in \u001b[0;36mTest.__str__\u001b[1;34m(self)\u001b[0m\n\u001b[0;32m     12\u001b[0m \u001b[38;5;28;01mdef\u001b[39;00m \u001b[38;5;21m__str__\u001b[39m(\u001b[38;5;28mself\u001b[39m):\n\u001b[1;32m---> 13\u001b[0m     \u001b[38;5;28;01mreturn\u001b[39;00m \u001b[43mTest\u001b[49m\u001b[43m(\u001b[49m\u001b[38;5;28;43mstr\u001b[39;49m\u001b[43m)\u001b[49m\n",
      "\u001b[1;31mTypeError\u001b[0m: Test() takes no arguments"
     ]
    }
   ],
   "source": [
    "#ex15\n",
    "print(str(test))"
   ]
  }
 ],
 "metadata": {
  "kernelspec": {
   "display_name": "Python 3",
   "language": "python",
   "name": "python3"
  },
  "language_info": {
   "codemirror_mode": {
    "name": "ipython",
    "version": 3
   },
   "file_extension": ".py",
   "mimetype": "text/x-python",
   "name": "python",
   "nbconvert_exporter": "python",
   "pygments_lexer": "ipython3",
   "version": "3.12.2"
  }
 },
 "nbformat": 4,
 "nbformat_minor": 2
}
