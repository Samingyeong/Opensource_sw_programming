{
  "nbformat": 4,
  "nbformat_minor": 0,
  "metadata": {
    "colab": {
      "provenance": []
    },
    "kernelspec": {
      "name": "python3",
      "display_name": "Python 3"
    },
    "language_info": {
      "name": "python"
    }
  },
  "cells": [
    {
      "cell_type": "code",
      "execution_count": 1,
      "metadata": {
        "colab": {
          "base_uri": "https://localhost:8080/"
        },
        "id": "zB8PJ5aP9Snf",
        "outputId": "bc8f3f6c-8257-4b06-c73a-c8c0deb9ee3e"
      },
      "outputs": [
        {
          "output_type": "execute_result",
          "data": {
            "text/plain": [
              "4"
            ]
          },
          "metadata": {},
          "execution_count": 1
        }
      ],
      "source": [
        "#예제10. 플랫폼 인코딩 문제(리눅스)\n",
        "open('cafe.txt', 'w', encoding='utf8').write('café')"
      ]
    },
    {
      "cell_type": "code",
      "source": [
        "open('cafe.txt').read()"
      ],
      "metadata": {
        "colab": {
          "base_uri": "https://localhost:8080/",
          "height": 35
        },
        "id": "Mv7WTaKX9kIK",
        "outputId": "08b346a8-bc8a-47d8-e02f-8d50f77ee1f4"
      },
      "execution_count": 2,
      "outputs": [
        {
          "output_type": "execute_result",
          "data": {
            "text/plain": [
              "'café'"
            ],
            "application/vnd.google.colaboratory.intrinsic+json": {
              "type": "string"
            }
          },
          "metadata": {},
          "execution_count": 2
        }
      ]
    },
    {
      "cell_type": "code",
      "source": [
        "#예제11. 인코딩 기본값 알아보기\n",
        "import sys, locale\n",
        "\n",
        "expressions = \"\"\"\n",
        "    locale.getpreferredencoding()\n",
        "    type(my_file)\n",
        "    my_file.encoding\n",
        "    sys.stdout.isatty()\n",
        "    sys.stdout.encoding\n",
        "    sys.stdin.isatty()\n",
        "    sys.stdin.encoding\n",
        "    sys.stderr.isatty()\n",
        "    sys.stderr.encoding\n",
        "    sys.getdefaultencoding()\n",
        "    sys.getfilesystemencoding()\n",
        "\"\"\"\n",
        "\n",
        "my_file = open('dummy', 'w')\n",
        "\n",
        "for expression in expressions.split():\n",
        "    value = eval(expression)\n",
        "    print(expression.rjust(30), '->', repr(value))"
      ],
      "metadata": {
        "colab": {
          "base_uri": "https://localhost:8080/"
        },
        "id": "TO33dluh9ob0",
        "outputId": "674664ed-00c8-475b-a746-10f853e78054"
      },
      "execution_count": 3,
      "outputs": [
        {
          "output_type": "stream",
          "name": "stdout",
          "text": [
            " locale.getpreferredencoding() -> 'UTF-8'\n",
            "                 type(my_file) -> <class '_io.TextIOWrapper'>\n",
            "              my_file.encoding -> 'UTF-8'\n",
            "           sys.stdout.isatty() -> False\n",
            "           sys.stdout.encoding -> 'UTF-8'\n",
            "            sys.stdin.isatty() -> False\n",
            "            sys.stdin.encoding -> 'utf-8'\n",
            "           sys.stderr.isatty() -> False\n",
            "           sys.stderr.encoding -> 'UTF-8'\n",
            "      sys.getdefaultencoding() -> 'utf-8'\n",
            "   sys.getfilesystemencoding() -> 'utf-8'\n"
          ]
        }
      ]
    },
    {
      "cell_type": "code",
      "source": [
        "#예제12. 정규화 방식 비교\n",
        "from unicodedata import normalize\n",
        "s1 = 'café'\n",
        "s2 = 'café'\n",
        "len(normalize('NFC',s1)), len(normalize('NFC', s2))"
      ],
      "metadata": {
        "colab": {
          "base_uri": "https://localhost:8080/"
        },
        "id": "Q6xb8eIb-nQw",
        "outputId": "574ebcae-23d2-4f3b-cb24-3a86d1b06e77"
      },
      "execution_count": 4,
      "outputs": [
        {
          "output_type": "execute_result",
          "data": {
            "text/plain": [
              "(4, 4)"
            ]
          },
          "metadata": {},
          "execution_count": 4
        }
      ]
    },
    {
      "cell_type": "code",
      "source": [
        "len(normalize('NFD',s1)), len(normalize('NFD', s2))"
      ],
      "metadata": {
        "colab": {
          "base_uri": "https://localhost:8080/"
        },
        "id": "k9IkC7T1_cOZ",
        "outputId": "cdf76010-ee39-4b46-afda-6ae0f0726d41"
      },
      "execution_count": 5,
      "outputs": [
        {
          "output_type": "execute_result",
          "data": {
            "text/plain": [
              "(5, 5)"
            ]
          },
          "metadata": {},
          "execution_count": 5
        }
      ]
    },
    {
      "cell_type": "code",
      "source": [
        "normalize('NFC',s1), normalize('NFC', s2)"
      ],
      "metadata": {
        "colab": {
          "base_uri": "https://localhost:8080/"
        },
        "id": "IiXk4NUg_hOU",
        "outputId": "b7ec2dd9-234d-41d9-c679-2f479398b8fa"
      },
      "execution_count": 6,
      "outputs": [
        {
          "output_type": "execute_result",
          "data": {
            "text/plain": [
              "('café', 'café')"
            ]
          },
          "metadata": {},
          "execution_count": 6
        }
      ]
    },
    {
      "cell_type": "code",
      "source": [
        "normalize('NFD',s1), normalize('NFD', s2)"
      ],
      "metadata": {
        "colab": {
          "base_uri": "https://localhost:8080/"
        },
        "id": "HtTH2gHU_lV2",
        "outputId": "86419766-f34c-405d-8279-bee1b19ec2ad"
      },
      "execution_count": 7,
      "outputs": [
        {
          "output_type": "execute_result",
          "data": {
            "text/plain": [
              "('café', 'café')"
            ]
          },
          "metadata": {},
          "execution_count": 7
        }
      ]
    },
    {
      "cell_type": "code",
      "source": [
        "normalize('NFC',s1) == normalize('NFC', s2)"
      ],
      "metadata": {
        "colab": {
          "base_uri": "https://localhost:8080/"
        },
        "id": "r3Sq5z6B_ove",
        "outputId": "ce458ac4-9ab8-4801-db60-6c2342e4e16c"
      },
      "execution_count": 8,
      "outputs": [
        {
          "output_type": "execute_result",
          "data": {
            "text/plain": [
              "True"
            ]
          },
          "metadata": {},
          "execution_count": 8
        }
      ]
    },
    {
      "cell_type": "code",
      "source": [
        "normalize('NFD',s1) == normalize('NFD', s2)"
      ],
      "metadata": {
        "colab": {
          "base_uri": "https://localhost:8080/"
        },
        "id": "IF5ujxvW_tHe",
        "outputId": "512c78bb-f7ad-4eda-998a-d1a54194d3d8"
      },
      "execution_count": 9,
      "outputs": [
        {
          "output_type": "execute_result",
          "data": {
            "text/plain": [
              "True"
            ]
          },
          "metadata": {},
          "execution_count": 9
        }
      ]
    },
    {
      "cell_type": "code",
      "source": [
        "#예제13. NFC에 의해 다른 문자로 정규화 되는 경우\n",
        "from unicodedata import normalize, name\n",
        "ohm = '\\u2126'\n",
        "name(ohm)"
      ],
      "metadata": {
        "colab": {
          "base_uri": "https://localhost:8080/",
          "height": 35
        },
        "id": "CVQkfu3__wse",
        "outputId": "ffc202c7-e031-4503-fba6-7ade097ab0ab"
      },
      "execution_count": 10,
      "outputs": [
        {
          "output_type": "execute_result",
          "data": {
            "text/plain": [
              "'OHM SIGN'"
            ],
            "application/vnd.google.colaboratory.intrinsic+json": {
              "type": "string"
            }
          },
          "metadata": {},
          "execution_count": 10
        }
      ]
    },
    {
      "cell_type": "code",
      "source": [
        "ohm_c = normalize('NFC', ohm)\n",
        "name(ohm_c)"
      ],
      "metadata": {
        "colab": {
          "base_uri": "https://localhost:8080/",
          "height": 35
        },
        "id": "6EshUCQeAD5L",
        "outputId": "bcfb5120-e59e-48e4-fed5-35bc9b71fca0"
      },
      "execution_count": 11,
      "outputs": [
        {
          "output_type": "execute_result",
          "data": {
            "text/plain": [
              "'GREEK CAPITAL LETTER OMEGA'"
            ],
            "application/vnd.google.colaboratory.intrinsic+json": {
              "type": "string"
            }
          },
          "metadata": {},
          "execution_count": 11
        }
      ]
    },
    {
      "cell_type": "code",
      "source": [
        "ohm, ohm_c, ohm == ohm_c"
      ],
      "metadata": {
        "colab": {
          "base_uri": "https://localhost:8080/"
        },
        "id": "soqYyHFqAJkO",
        "outputId": "eccea6ce-af91-4d0a-c683-45df9fc0840d"
      },
      "execution_count": 12,
      "outputs": [
        {
          "output_type": "execute_result",
          "data": {
            "text/plain": [
              "('Ω', 'Ω', False)"
            ]
          },
          "metadata": {},
          "execution_count": 12
        }
      ]
    },
    {
      "cell_type": "code",
      "source": [
        "normalize('NFC', ohm) == normalize('NFC', ohm_c)"
      ],
      "metadata": {
        "colab": {
          "base_uri": "https://localhost:8080/"
        },
        "id": "7t3Drzk_AM33",
        "outputId": "84fc6a30-9142-4847-d564-e898ce3bfbbb"
      },
      "execution_count": 13,
      "outputs": [
        {
          "output_type": "execute_result",
          "data": {
            "text/plain": [
              "True"
            ]
          },
          "metadata": {},
          "execution_count": 13
        }
      ]
    },
    {
      "cell_type": "code",
      "source": [
        "#예제14. 케이스 폴딩 예\n",
        "eszett = 'ß'\n",
        "name(eszett)"
      ],
      "metadata": {
        "colab": {
          "base_uri": "https://localhost:8080/",
          "height": 35
        },
        "id": "b9emx607AUjs",
        "outputId": "9ff93299-f865-4ced-a311-cf4419428101"
      },
      "execution_count": 14,
      "outputs": [
        {
          "output_type": "execute_result",
          "data": {
            "text/plain": [
              "'LATIN SMALL LETTER SHARP S'"
            ],
            "application/vnd.google.colaboratory.intrinsic+json": {
              "type": "string"
            }
          },
          "metadata": {},
          "execution_count": 14
        }
      ]
    },
    {
      "cell_type": "code",
      "source": [
        "eszett_cf = eszett.casefold()\n",
        "eszett_cf2 = eszett.lower()\n",
        "eszett,eszett_cf,eszett_cf2"
      ],
      "metadata": {
        "colab": {
          "base_uri": "https://localhost:8080/"
        },
        "id": "8_MKlHh1AcZa",
        "outputId": "5e238caf-3f2d-4553-afd0-e2c19ce999ea"
      },
      "execution_count": 15,
      "outputs": [
        {
          "output_type": "execute_result",
          "data": {
            "text/plain": [
              "('ß', 'ss', 'ß')"
            ]
          },
          "metadata": {},
          "execution_count": 15
        }
      ]
    },
    {
      "cell_type": "code",
      "source": [
        "#예제15. 정규화된 유니코드 문자열 비교\n",
        "s1 = 'café'\n",
        "s2 = 'cafe\\u0301'\n",
        "s1==s2"
      ],
      "metadata": {
        "colab": {
          "base_uri": "https://localhost:8080/"
        },
        "id": "kJh7ziK0ApXA",
        "outputId": "1202db12-58b7-406c-c92d-0a1f5149f771"
      },
      "execution_count": 16,
      "outputs": [
        {
          "output_type": "execute_result",
          "data": {
            "text/plain": [
              "False"
            ]
          },
          "metadata": {},
          "execution_count": 16
        }
      ]
    },
    {
      "cell_type": "code",
      "source": [
        "from unicodedata import normalize\n",
        "\n",
        "def nfc_equal(str1, str2):\n",
        "    return normalize('NFC', str1) == normalize('NFC', str2)\n",
        "\n",
        "def fold_equal(str1, str2):\n",
        "    return (normalize('NFC', str1).casefold() == normalize('NFC', str2).casefold())\n",
        "\n",
        "nfc_equal(s1, s2)"
      ],
      "metadata": {
        "colab": {
          "base_uri": "https://localhost:8080/"
        },
        "id": "hpvFCFrnA2VI",
        "outputId": "b21dcdbe-1e26-4801-8272-5c73014515d9"
      },
      "execution_count": 17,
      "outputs": [
        {
          "output_type": "execute_result",
          "data": {
            "text/plain": [
              "True"
            ]
          },
          "metadata": {},
          "execution_count": 17
        }
      ]
    },
    {
      "cell_type": "code",
      "source": [
        "nfc_equal('A','a')"
      ],
      "metadata": {
        "colab": {
          "base_uri": "https://localhost:8080/"
        },
        "id": "Ce-_L0DQBNnm",
        "outputId": "c56d2819-4d95-4577-f461-746c52f7f9c6"
      },
      "execution_count": 18,
      "outputs": [
        {
          "output_type": "execute_result",
          "data": {
            "text/plain": [
              "False"
            ]
          },
          "metadata": {},
          "execution_count": 18
        }
      ]
    },
    {
      "cell_type": "code",
      "source": [
        "s3 = 'Straße'\n",
        "s4 = 'strasse'\n",
        "\n",
        "s3==s4"
      ],
      "metadata": {
        "colab": {
          "base_uri": "https://localhost:8080/"
        },
        "id": "liPBX-_bBRg0",
        "outputId": "b792a83c-eabe-4ee1-dd59-114c19d334fa"
      },
      "execution_count": 19,
      "outputs": [
        {
          "output_type": "execute_result",
          "data": {
            "text/plain": [
              "False"
            ]
          },
          "metadata": {},
          "execution_count": 19
        }
      ]
    },
    {
      "cell_type": "code",
      "source": [
        "nfc_equal(s3, s4)"
      ],
      "metadata": {
        "colab": {
          "base_uri": "https://localhost:8080/"
        },
        "id": "ZZrX7nhhBZCS",
        "outputId": "0c471c3e-b160-4f4a-e2ee-c4eabf26916c"
      },
      "execution_count": 20,
      "outputs": [
        {
          "output_type": "execute_result",
          "data": {
            "text/plain": [
              "False"
            ]
          },
          "metadata": {},
          "execution_count": 20
        }
      ]
    },
    {
      "cell_type": "code",
      "source": [
        "fold_equal(s3,s4)"
      ],
      "metadata": {
        "colab": {
          "base_uri": "https://localhost:8080/"
        },
        "id": "hjVrHX68BbeG",
        "outputId": "e7e60d15-65bf-452f-da3b-2109968326c8"
      },
      "execution_count": 21,
      "outputs": [
        {
          "output_type": "execute_result",
          "data": {
            "text/plain": [
              "True"
            ]
          },
          "metadata": {},
          "execution_count": 21
        }
      ]
    },
    {
      "cell_type": "code",
      "source": [
        "fold_equal(s1,s2)"
      ],
      "metadata": {
        "colab": {
          "base_uri": "https://localhost:8080/"
        },
        "id": "z2WqhTJOBd73",
        "outputId": "90cd3bcd-d47b-4cff-d255-5083d0bd9605"
      },
      "execution_count": 22,
      "outputs": [
        {
          "output_type": "execute_result",
          "data": {
            "text/plain": [
              "True"
            ]
          },
          "metadata": {},
          "execution_count": 22
        }
      ]
    },
    {
      "cell_type": "code",
      "source": [
        "fold_equal('A','a')"
      ],
      "metadata": {
        "colab": {
          "base_uri": "https://localhost:8080/"
        },
        "id": "aIVoJ4xDBgDz",
        "outputId": "532f5aa7-a9f9-4a58-9a41-475073d88a31"
      },
      "execution_count": 23,
      "outputs": [
        {
          "output_type": "execute_result",
          "data": {
            "text/plain": [
              "True"
            ]
          },
          "metadata": {},
          "execution_count": 23
        }
      ]
    },
    {
      "cell_type": "code",
      "source": [
        "#예제16. 결합 표시를 모두 제거하는 함수 및 예제\n",
        "import unicodedata\n",
        "import string\n",
        "\n",
        "def shave_marks(txt):\n",
        "    norm_txt = unicodedata.normalize('NFD', txt)\n",
        "    shaved = ''.join(c for c in norm_txt\n",
        "                     if not unicodedata.combining(c))\n",
        "    return unicodedata.normalize('NFC', shaved)"
      ],
      "metadata": {
        "id": "fuLLi3YLBij6"
      },
      "execution_count": 24,
      "outputs": []
    },
    {
      "cell_type": "code",
      "source": [
        "order = '\"Herr Voß: • ½ cup of Œtker™ caffè latte • bowl of açaí.\"'\n",
        "shave_marks(order)"
      ],
      "metadata": {
        "colab": {
          "base_uri": "https://localhost:8080/",
          "height": 35
        },
        "id": "s_o-JEkcB6Dk",
        "outputId": "c4e545f1-6fd1-45bd-de7a-31011fb94050"
      },
      "execution_count": 25,
      "outputs": [
        {
          "output_type": "execute_result",
          "data": {
            "text/plain": [
              "'\"Herr Voß: • ½ cup of Œtker™ caffe latte • bowl of acai.\"'"
            ],
            "application/vnd.google.colaboratory.intrinsic+json": {
              "type": "string"
            }
          },
          "metadata": {},
          "execution_count": 25
        }
      ]
    },
    {
      "cell_type": "code",
      "source": [
        "Greek = 'Ζέφυρος, Zéfiro'\n",
        "shave_marks(Greek)"
      ],
      "metadata": {
        "colab": {
          "base_uri": "https://localhost:8080/",
          "height": 35
        },
        "id": "rvEk3c2kDQei",
        "outputId": "e84e954d-11e1-42f7-e9c9-c3e04b55f2b5"
      },
      "execution_count": 26,
      "outputs": [
        {
          "output_type": "execute_result",
          "data": {
            "text/plain": [
              "'Ζεφυρος, Zefiro'"
            ],
            "application/vnd.google.colaboratory.intrinsic+json": {
              "type": "string"
            }
          },
          "metadata": {},
          "execution_count": 26
        }
      ]
    },
    {
      "cell_type": "code",
      "source": [
        "shave_marks('Straße')"
      ],
      "metadata": {
        "colab": {
          "base_uri": "https://localhost:8080/",
          "height": 35
        },
        "id": "HQwbAcqzDV-2",
        "outputId": "c042d885-abaf-4711-d0d8-5fe742632f1d"
      },
      "execution_count": 27,
      "outputs": [
        {
          "output_type": "execute_result",
          "data": {
            "text/plain": [
              "'Straße'"
            ],
            "application/vnd.google.colaboratory.intrinsic+json": {
              "type": "string"
            }
          },
          "metadata": {},
          "execution_count": 27
        }
      ]
    },
    {
      "cell_type": "code",
      "source": [
        "shave_marks('café')"
      ],
      "metadata": {
        "colab": {
          "base_uri": "https://localhost:8080/",
          "height": 35
        },
        "id": "Ad-feAevDdzR",
        "outputId": "0c65f601-2cff-470c-a6ac-8c2ad46fe9b2"
      },
      "execution_count": 28,
      "outputs": [
        {
          "output_type": "execute_result",
          "data": {
            "text/plain": [
              "'cafe'"
            ],
            "application/vnd.google.colaboratory.intrinsic+json": {
              "type": "string"
            }
          },
          "metadata": {},
          "execution_count": 28
        }
      ]
    },
    {
      "cell_type": "code",
      "source": [
        "#예제17. 라틴 문자에서 결합 표시를 모두 제거하는 함수\n",
        "\n",
        "def shave_marks_latin(txt):\n",
        "    norm_txt = unicodedata.normalize('NFD', txt)\n",
        "\n",
        "    latin_base = False\n",
        "    keepers = []\n",
        "\n",
        "    for c in norm_txt:\n",
        "        if unicodedata.combining(c) and latin_base:\n",
        "            continue\n",
        "\n",
        "        keepers.append(c)\n",
        "\n",
        "        if not unicodedata.combining(c):\n",
        "            latin_base = c in string.ascii_letters\n",
        "\n",
        "    shaved = ''.join(keepers)\n",
        "\n",
        "    return unicodedata.normalize('NFC', shaved)"
      ],
      "metadata": {
        "id": "liP4AtrlDf9r"
      },
      "execution_count": 29,
      "outputs": []
    },
    {
      "cell_type": "code",
      "source": [
        "#예제18. 서양 활자 기호를 아스키 코드로 변환\n",
        "\n",
        "single_map = str.maketrans(\"\"\"‚ƒ„†‡ˆ‹‘’“”•–—˜›\"\"\", \"\"\"'f\"+*^<''\"\"---~>\"\"\")\n",
        "\n",
        "multi_map = str.maketrans({\n",
        "    '€': '<euro>',\n",
        "    '…': '...',\n",
        "    'Œ': 'OE',\n",
        "    '™': '(TM)',\n",
        "    'œ': 'oe',\n",
        "    '‰': '<per mille>',\n",
        "    '∗': '*',\n",
        "})\n",
        "\n",
        "multi_map.update(single_map)\n",
        "\n",
        "def dewinize(txt):\n",
        "    return txt.translate(multi_map)\n",
        "\n",
        "def asciize(txt):\n",
        "    no_marks = shave_marks_latin(dewinize(txt))\n",
        "    no_marks = no_marks.replace('ß', 'ss')\n",
        "    return unicodedata.normalize('NFKC', no_marks)"
      ],
      "metadata": {
        "id": "3vqqj_XTEFBa"
      },
      "execution_count": 30,
      "outputs": []
    },
    {
      "cell_type": "code",
      "source": [
        "order = '“Herr Voß: • ½ cup of Œtker™ caffè latte • bowl of açaí.”'\n",
        "dewinize(order)"
      ],
      "metadata": {
        "colab": {
          "base_uri": "https://localhost:8080/",
          "height": 35
        },
        "id": "jhDqxnrIEuox",
        "outputId": "1d4bba00-bdee-4da9-814d-8126e891d6b6"
      },
      "execution_count": 31,
      "outputs": [
        {
          "output_type": "execute_result",
          "data": {
            "text/plain": [
              "'\"Herr Voß: - ½ cup of OEtker(TM) caffè latte - bowl of açaí.\"'"
            ],
            "application/vnd.google.colaboratory.intrinsic+json": {
              "type": "string"
            }
          },
          "metadata": {},
          "execution_count": 31
        }
      ]
    },
    {
      "cell_type": "code",
      "source": [
        "asciize(order)"
      ],
      "metadata": {
        "colab": {
          "base_uri": "https://localhost:8080/",
          "height": 35
        },
        "id": "u0jy0I3IE6Vs",
        "outputId": "42a9b799-2788-4f85-e63e-4ea33c31b8da"
      },
      "execution_count": 32,
      "outputs": [
        {
          "output_type": "execute_result",
          "data": {
            "text/plain": [
              "'\"Herr Voss: - 1⁄2 cup of OEtker(TM) caffe latte - bowl of acai.\"'"
            ],
            "application/vnd.google.colaboratory.intrinsic+json": {
              "type": "string"
            }
          },
          "metadata": {},
          "execution_count": 32
        }
      ]
    },
    {
      "cell_type": "code",
      "source": [
        "#예제19. 비아스키 문자 정렬 에제\n",
        "\n",
        "fruits = ['caju', 'atemoia', 'cajá', 'açaí', 'acerola']\n",
        "sorted(fruits)"
      ],
      "metadata": {
        "colab": {
          "base_uri": "https://localhost:8080/"
        },
        "id": "4DbiOHmHE9kp",
        "outputId": "f17ad242-38ad-45b9-ba2f-bcfa1fdc947b"
      },
      "execution_count": 33,
      "outputs": [
        {
          "output_type": "execute_result",
          "data": {
            "text/plain": [
              "['acerola', 'atemoia', 'açaí', 'caju', 'cajá']"
            ]
          },
          "metadata": {},
          "execution_count": 33
        }
      ]
    },
    {
      "cell_type": "code",
      "source": [
        "#예제20. pyuca.Collator_sort_key() 메서도 활용\n",
        "\n",
        "!pip install pyuca"
      ],
      "metadata": {
        "colab": {
          "base_uri": "https://localhost:8080/"
        },
        "id": "Cn2-3lruFHsV",
        "outputId": "e268fcdf-35ef-45da-d0fb-06eaace8425f"
      },
      "execution_count": 34,
      "outputs": [
        {
          "output_type": "stream",
          "name": "stdout",
          "text": [
            "Collecting pyuca\n",
            "  Downloading pyuca-1.2-py2.py3-none-any.whl.metadata (649 bytes)\n",
            "Downloading pyuca-1.2-py2.py3-none-any.whl (1.5 MB)\n",
            "\u001b[2K   \u001b[90m━━━━━━━━━━━━━━━━━━━━━━━━━━━━━━━━━━━━━━━━\u001b[0m \u001b[32m1.5/1.5 MB\u001b[0m \u001b[31m15.1 MB/s\u001b[0m eta \u001b[36m0:00:00\u001b[0m\n",
            "\u001b[?25hInstalling collected packages: pyuca\n",
            "Successfully installed pyuca-1.2\n"
          ]
        }
      ]
    },
    {
      "cell_type": "code",
      "source": [
        "import pyuca\n",
        "coll = pyuca.Collator()\n",
        "fruits = ['caju', 'atemoia', 'cajá', 'açaí', 'acerola']\n",
        "sorted_fruits = sorted(fruits, key = coll.sort_key)\n",
        "sorted_fruits"
      ],
      "metadata": {
        "colab": {
          "base_uri": "https://localhost:8080/"
        },
        "id": "LfoF7CeKGgrf",
        "outputId": "c356a1d6-26ae-48db-875c-2d267aeb9d79"
      },
      "execution_count": 35,
      "outputs": [
        {
          "output_type": "execute_result",
          "data": {
            "text/plain": [
              "['açaí', 'acerola', 'atemoia', 'cajá', 'caju']"
            ]
          },
          "metadata": {},
          "execution_count": 35
        }
      ]
    },
    {
      "cell_type": "code",
      "source": [
        "#에제21. 유니코드 데이터베이스 수치형 문자 메타데이터 사용 에\n",
        "import unicodedata\n",
        "import re\n",
        "\n",
        "re_digit = re.compile(r'\\d')\n",
        "sample = '1\\xbc\\xb2\\u0969\\u136b\\u216b\\u2466\\u2480\\u3285'\n",
        "\n",
        "for char in sample:\n",
        "    print('U+%04x' %ord(char),\n",
        "    char.center(6),\n",
        "    're_dig' if re_digit.match(char) else '-',\n",
        "    'isdig' if char.isdigit() else '-',\n",
        "    'isnum' if char.isnumeric() else '-',\n",
        "    format(unicodedata.numeric(char), '5.2f'),\n",
        "    unicodedata.name(char),\n",
        "    sep='\\t')"
      ],
      "metadata": {
        "colab": {
          "base_uri": "https://localhost:8080/"
        },
        "id": "g00IkyuqGvRg",
        "outputId": "2404a697-5e4e-40c5-d948-2fce410bca52"
      },
      "execution_count": 36,
      "outputs": [
        {
          "output_type": "stream",
          "name": "stdout",
          "text": [
            "U+0031\t  1   \tre_dig\tisdig\tisnum\t 1.00\tDIGIT ONE\n",
            "U+00bc\t  ¼   \t-\t-\tisnum\t 0.25\tVULGAR FRACTION ONE QUARTER\n",
            "U+00b2\t  ²   \t-\tisdig\tisnum\t 2.00\tSUPERSCRIPT TWO\n",
            "U+0969\t  ३   \tre_dig\tisdig\tisnum\t 3.00\tDEVANAGARI DIGIT THREE\n",
            "U+136b\t  ፫   \t-\tisdig\tisnum\t 3.00\tETHIOPIC DIGIT THREE\n",
            "U+216b\t  Ⅻ   \t-\t-\tisnum\t12.00\tROMAN NUMERAL TWELVE\n",
            "U+2466\t  ⑦   \t-\tisdig\tisnum\t 7.00\tCIRCLED DIGIT SEVEN\n",
            "U+2480\t  ⒀   \t-\t-\tisnum\t13.00\tPARENTHESIZED NUMBER THIRTEEN\n",
            "U+3285\t  ㊅   \t-\t-\tisnum\t 6.00\tCIRCLED IDEOGRAPH SIX\n"
          ]
        }
      ]
    },
    {
      "cell_type": "code",
      "source": [
        "#예제22. remanujan.py: 간단한 str과 bytes정규 표현식의 동작 비교\n",
        "import re\n",
        "\n",
        "re_numbers_str = re.compile(r'\\d+')\n",
        "re_words_str = re.compile(r'\\w+')\n",
        "re_numbers_bytes = re.compile(rb'\\d+')\n",
        "re_words_bytes = re.compile(rb'\\w+')\n",
        "\n",
        "text_str = (\"Ramanujan saw \\u0be7\\u0bed\\u0be8\\u0bef\"\n",
        "                \"as 1729 = \")\n",
        "\n",
        "text_bytes = text_str.encode('utf_8')\n",
        "\n",
        "print('Text', repr(text_str), sep='\\n')\n",
        "print('Numbers')\n",
        "print(' str :', re_numbers_str.findall(text_str))\n",
        "print(' bytes:',re_numbers_bytes.findall(text_bytes))\n",
        "print('Words')\n",
        "print(' str:', re_words_str.findall(text_str))\n",
        "print(' bytes:', re_words_bytes.findall(text_bytes))"
      ],
      "metadata": {
        "colab": {
          "base_uri": "https://localhost:8080/"
        },
        "id": "rKMNqH7ICMpe",
        "outputId": "71e9ec99-0da6-468e-8d18-2eb9887f94d7"
      },
      "execution_count": 37,
      "outputs": [
        {
          "output_type": "stream",
          "name": "stdout",
          "text": [
            "Text\n",
            "'Ramanujan saw ௧௭௨௯as 1729 = '\n",
            "Numbers\n",
            " str : ['௧௭௨௯', '1729']\n",
            " bytes: [b'1729']\n",
            "Words\n",
            " str: ['Ramanujan', 'saw', '௧௭௨௯as', '1729']\n",
            " bytes: [b'Ramanujan', b'saw', b'as', b'1729']\n"
          ]
        }
      ]
    },
    {
      "cell_type": "code",
      "source": [
        "#예제23. str과 bytes인수로 호출한 listdir()메서드와 결과\n",
        "import os\n",
        "\n",
        "os.listdir('.')"
      ],
      "metadata": {
        "colab": {
          "base_uri": "https://localhost:8080/"
        },
        "id": "Nv7LX0W4CBMl",
        "outputId": "5d32411f-06e7-4bc1-d512-bcffbe24d0f1"
      },
      "execution_count": 1,
      "outputs": [
        {
          "output_type": "execute_result",
          "data": {
            "text/plain": [
              "['.config', 'sample_data']"
            ]
          },
          "metadata": {},
          "execution_count": 1
        }
      ]
    },
    {
      "cell_type": "code",
      "source": [
        "os.listdir(b'.')"
      ],
      "metadata": {
        "colab": {
          "base_uri": "https://localhost:8080/"
        },
        "id": "rU5vsTQQCIJ7",
        "outputId": "4e5e4c9c-4d1f-43f0-db08-b12c97154e38"
      },
      "execution_count": 2,
      "outputs": [
        {
          "output_type": "execute_result",
          "data": {
            "text/plain": [
              "[b'.config', b'sample_data']"
            ]
          },
          "metadata": {},
          "execution_count": 2
        }
      ]
    },
    {
      "cell_type": "code",
      "source": [
        "#예제24. surrogateescape 에러 처리\n",
        "os.listdir('./fluent_python')"
      ],
      "metadata": {
        "colab": {
          "base_uri": "https://localhost:8080/",
          "height": 162
        },
        "id": "z079tz-5JNDj",
        "outputId": "da394419-9732-47e8-c612-39a6269dba25"
      },
      "execution_count": 40,
      "outputs": [
        {
          "output_type": "error",
          "ename": "FileNotFoundError",
          "evalue": "[Errno 2] No such file or directory: './fluent_python'",
          "traceback": [
            "\u001b[0;31m---------------------------------------------------------------------------\u001b[0m",
            "\u001b[0;31mFileNotFoundError\u001b[0m                         Traceback (most recent call last)",
            "\u001b[0;32m<ipython-input-40-2d9b5963fe71>\u001b[0m in \u001b[0;36m<cell line: 2>\u001b[0;34m()\u001b[0m\n\u001b[1;32m      1\u001b[0m \u001b[0;31m#예제24. surrogateescape 에러 처리\u001b[0m\u001b[0;34m\u001b[0m\u001b[0;34m\u001b[0m\u001b[0m\n\u001b[0;32m----> 2\u001b[0;31m \u001b[0mos\u001b[0m\u001b[0;34m.\u001b[0m\u001b[0mlistdir\u001b[0m\u001b[0;34m(\u001b[0m\u001b[0;34m'./fluent_python'\u001b[0m\u001b[0;34m)\u001b[0m\u001b[0;34m\u001b[0m\u001b[0;34m\u001b[0m\u001b[0m\n\u001b[0m",
            "\u001b[0;31mFileNotFoundError\u001b[0m: [Errno 2] No such file or directory: './fluent_python'"
          ]
        }
      ]
    },
    {
      "cell_type": "code",
      "source": [
        "os.listdir(b'./fluent_python')"
      ],
      "metadata": {
        "id": "E_FsldH-JjfZ"
      },
      "execution_count": null,
      "outputs": []
    },
    {
      "cell_type": "code",
      "source": [
        "pi_name_bytes = os.listdir(b'.')[1]\n",
        "pi_name_str = pi_name_bytes.decode('ascii', 'surrogateescape')\n",
        "pi_name_str"
      ],
      "metadata": {
        "colab": {
          "base_uri": "https://localhost:8080/",
          "height": 35
        },
        "id": "t-2cBRtVJy2e",
        "outputId": "ec3603d3-e1e8-4956-c38d-37e5abd21368"
      },
      "execution_count": 3,
      "outputs": [
        {
          "output_type": "execute_result",
          "data": {
            "text/plain": [
              "'sample_data'"
            ],
            "application/vnd.google.colaboratory.intrinsic+json": {
              "type": "string"
            }
          },
          "metadata": {},
          "execution_count": 3
        }
      ]
    }
  ]
}